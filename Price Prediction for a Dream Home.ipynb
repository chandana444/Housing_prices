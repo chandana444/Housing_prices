{
 "cells": [
  {
   "cell_type": "code",
   "execution_count": 93,
   "id": "157210d9",
   "metadata": {},
   "outputs": [
    {
     "name": "stdout",
     "output_type": "stream",
     "text": [
      "Requirement already satisfied: xgboost in d:\\anaconda\\lib\\site-packages (1.6.0)\n",
      "Requirement already satisfied: scipy in d:\\anaconda\\lib\\site-packages (from xgboost) (1.6.2)\n",
      "Requirement already satisfied: numpy in d:\\anaconda\\lib\\site-packages (from xgboost) (1.20.1)\n",
      "Note: you may need to restart the kernel to use updated packages.\n"
     ]
    }
   ],
   "source": [
    "pip install xgboost"
   ]
  },
  {
   "cell_type": "code",
   "execution_count": 94,
   "id": "5fd23558",
   "metadata": {},
   "outputs": [],
   "source": [
    "import numpy as np\n",
    "import seaborn as sns\n",
    "import matplotlib.pyplot as plt\n",
    "import pandas as pd"
   ]
  },
  {
   "cell_type": "code",
   "execution_count": 95,
   "id": "b1829d1a",
   "metadata": {},
   "outputs": [
    {
     "data": {
      "text/html": [
       "<div>\n",
       "<style scoped>\n",
       "    .dataframe tbody tr th:only-of-type {\n",
       "        vertical-align: middle;\n",
       "    }\n",
       "\n",
       "    .dataframe tbody tr th {\n",
       "        vertical-align: top;\n",
       "    }\n",
       "\n",
       "    .dataframe thead th {\n",
       "        text-align: right;\n",
       "    }\n",
       "</style>\n",
       "<table border=\"1\" class=\"dataframe\">\n",
       "  <thead>\n",
       "    <tr style=\"text-align: right;\">\n",
       "      <th></th>\n",
       "      <th>Id</th>\n",
       "      <th>MSSubClass</th>\n",
       "      <th>MSZoning</th>\n",
       "      <th>LotFrontage</th>\n",
       "      <th>LotArea</th>\n",
       "      <th>Street</th>\n",
       "      <th>Alley</th>\n",
       "      <th>LotShape</th>\n",
       "      <th>LandContour</th>\n",
       "      <th>Utilities</th>\n",
       "      <th>...</th>\n",
       "      <th>ScreenPorch</th>\n",
       "      <th>PoolArea</th>\n",
       "      <th>PoolQC</th>\n",
       "      <th>Fence</th>\n",
       "      <th>MiscFeature</th>\n",
       "      <th>MiscVal</th>\n",
       "      <th>MoSold</th>\n",
       "      <th>YrSold</th>\n",
       "      <th>SaleType</th>\n",
       "      <th>SaleCondition</th>\n",
       "    </tr>\n",
       "  </thead>\n",
       "  <tbody>\n",
       "    <tr>\n",
       "      <th>0</th>\n",
       "      <td>1461</td>\n",
       "      <td>20</td>\n",
       "      <td>RH</td>\n",
       "      <td>80.0</td>\n",
       "      <td>11622</td>\n",
       "      <td>Pave</td>\n",
       "      <td>NaN</td>\n",
       "      <td>Reg</td>\n",
       "      <td>Lvl</td>\n",
       "      <td>AllPub</td>\n",
       "      <td>...</td>\n",
       "      <td>120</td>\n",
       "      <td>0</td>\n",
       "      <td>NaN</td>\n",
       "      <td>MnPrv</td>\n",
       "      <td>NaN</td>\n",
       "      <td>0</td>\n",
       "      <td>6</td>\n",
       "      <td>2010</td>\n",
       "      <td>WD</td>\n",
       "      <td>Normal</td>\n",
       "    </tr>\n",
       "    <tr>\n",
       "      <th>1</th>\n",
       "      <td>1462</td>\n",
       "      <td>20</td>\n",
       "      <td>RL</td>\n",
       "      <td>81.0</td>\n",
       "      <td>14267</td>\n",
       "      <td>Pave</td>\n",
       "      <td>NaN</td>\n",
       "      <td>IR1</td>\n",
       "      <td>Lvl</td>\n",
       "      <td>AllPub</td>\n",
       "      <td>...</td>\n",
       "      <td>0</td>\n",
       "      <td>0</td>\n",
       "      <td>NaN</td>\n",
       "      <td>NaN</td>\n",
       "      <td>Gar2</td>\n",
       "      <td>12500</td>\n",
       "      <td>6</td>\n",
       "      <td>2010</td>\n",
       "      <td>WD</td>\n",
       "      <td>Normal</td>\n",
       "    </tr>\n",
       "    <tr>\n",
       "      <th>2</th>\n",
       "      <td>1463</td>\n",
       "      <td>60</td>\n",
       "      <td>RL</td>\n",
       "      <td>74.0</td>\n",
       "      <td>13830</td>\n",
       "      <td>Pave</td>\n",
       "      <td>NaN</td>\n",
       "      <td>IR1</td>\n",
       "      <td>Lvl</td>\n",
       "      <td>AllPub</td>\n",
       "      <td>...</td>\n",
       "      <td>0</td>\n",
       "      <td>0</td>\n",
       "      <td>NaN</td>\n",
       "      <td>MnPrv</td>\n",
       "      <td>NaN</td>\n",
       "      <td>0</td>\n",
       "      <td>3</td>\n",
       "      <td>2010</td>\n",
       "      <td>WD</td>\n",
       "      <td>Normal</td>\n",
       "    </tr>\n",
       "    <tr>\n",
       "      <th>3</th>\n",
       "      <td>1464</td>\n",
       "      <td>60</td>\n",
       "      <td>RL</td>\n",
       "      <td>78.0</td>\n",
       "      <td>9978</td>\n",
       "      <td>Pave</td>\n",
       "      <td>NaN</td>\n",
       "      <td>IR1</td>\n",
       "      <td>Lvl</td>\n",
       "      <td>AllPub</td>\n",
       "      <td>...</td>\n",
       "      <td>0</td>\n",
       "      <td>0</td>\n",
       "      <td>NaN</td>\n",
       "      <td>NaN</td>\n",
       "      <td>NaN</td>\n",
       "      <td>0</td>\n",
       "      <td>6</td>\n",
       "      <td>2010</td>\n",
       "      <td>WD</td>\n",
       "      <td>Normal</td>\n",
       "    </tr>\n",
       "    <tr>\n",
       "      <th>4</th>\n",
       "      <td>1465</td>\n",
       "      <td>120</td>\n",
       "      <td>RL</td>\n",
       "      <td>43.0</td>\n",
       "      <td>5005</td>\n",
       "      <td>Pave</td>\n",
       "      <td>NaN</td>\n",
       "      <td>IR1</td>\n",
       "      <td>HLS</td>\n",
       "      <td>AllPub</td>\n",
       "      <td>...</td>\n",
       "      <td>144</td>\n",
       "      <td>0</td>\n",
       "      <td>NaN</td>\n",
       "      <td>NaN</td>\n",
       "      <td>NaN</td>\n",
       "      <td>0</td>\n",
       "      <td>1</td>\n",
       "      <td>2010</td>\n",
       "      <td>WD</td>\n",
       "      <td>Normal</td>\n",
       "    </tr>\n",
       "  </tbody>\n",
       "</table>\n",
       "<p>5 rows × 80 columns</p>\n",
       "</div>"
      ],
      "text/plain": [
       "     Id  MSSubClass MSZoning  LotFrontage  LotArea Street Alley LotShape  \\\n",
       "0  1461          20       RH         80.0    11622   Pave   NaN      Reg   \n",
       "1  1462          20       RL         81.0    14267   Pave   NaN      IR1   \n",
       "2  1463          60       RL         74.0    13830   Pave   NaN      IR1   \n",
       "3  1464          60       RL         78.0     9978   Pave   NaN      IR1   \n",
       "4  1465         120       RL         43.0     5005   Pave   NaN      IR1   \n",
       "\n",
       "  LandContour Utilities  ... ScreenPorch PoolArea PoolQC  Fence MiscFeature  \\\n",
       "0         Lvl    AllPub  ...         120        0    NaN  MnPrv         NaN   \n",
       "1         Lvl    AllPub  ...           0        0    NaN    NaN        Gar2   \n",
       "2         Lvl    AllPub  ...           0        0    NaN  MnPrv         NaN   \n",
       "3         Lvl    AllPub  ...           0        0    NaN    NaN         NaN   \n",
       "4         HLS    AllPub  ...         144        0    NaN    NaN         NaN   \n",
       "\n",
       "  MiscVal MoSold  YrSold  SaleType  SaleCondition  \n",
       "0       0      6    2010        WD         Normal  \n",
       "1   12500      6    2010        WD         Normal  \n",
       "2       0      3    2010        WD         Normal  \n",
       "3       0      6    2010        WD         Normal  \n",
       "4       0      1    2010        WD         Normal  \n",
       "\n",
       "[5 rows x 80 columns]"
      ]
     },
     "execution_count": 95,
     "metadata": {},
     "output_type": "execute_result"
    }
   ],
   "source": [
    "df_test=pd.read_csv(\"C:/Users/91842/OneDrive/Desktop/House Prediction/test.csv\")\n",
    "df_test.head()"
   ]
  },
  {
   "cell_type": "code",
   "execution_count": 96,
   "id": "e9ee008c",
   "metadata": {},
   "outputs": [
    {
     "data": {
      "text/html": [
       "<div>\n",
       "<style scoped>\n",
       "    .dataframe tbody tr th:only-of-type {\n",
       "        vertical-align: middle;\n",
       "    }\n",
       "\n",
       "    .dataframe tbody tr th {\n",
       "        vertical-align: top;\n",
       "    }\n",
       "\n",
       "    .dataframe thead th {\n",
       "        text-align: right;\n",
       "    }\n",
       "</style>\n",
       "<table border=\"1\" class=\"dataframe\">\n",
       "  <thead>\n",
       "    <tr style=\"text-align: right;\">\n",
       "      <th></th>\n",
       "      <th>Id</th>\n",
       "      <th>MSSubClass</th>\n",
       "      <th>MSZoning</th>\n",
       "      <th>LotFrontage</th>\n",
       "      <th>LotArea</th>\n",
       "      <th>Street</th>\n",
       "      <th>Alley</th>\n",
       "      <th>LotShape</th>\n",
       "      <th>LandContour</th>\n",
       "      <th>Utilities</th>\n",
       "      <th>...</th>\n",
       "      <th>PoolArea</th>\n",
       "      <th>PoolQC</th>\n",
       "      <th>Fence</th>\n",
       "      <th>MiscFeature</th>\n",
       "      <th>MiscVal</th>\n",
       "      <th>MoSold</th>\n",
       "      <th>YrSold</th>\n",
       "      <th>SaleType</th>\n",
       "      <th>SaleCondition</th>\n",
       "      <th>SalePrice</th>\n",
       "    </tr>\n",
       "  </thead>\n",
       "  <tbody>\n",
       "    <tr>\n",
       "      <th>0</th>\n",
       "      <td>1</td>\n",
       "      <td>60</td>\n",
       "      <td>RL</td>\n",
       "      <td>65.0</td>\n",
       "      <td>8450</td>\n",
       "      <td>Pave</td>\n",
       "      <td>NaN</td>\n",
       "      <td>Reg</td>\n",
       "      <td>Lvl</td>\n",
       "      <td>AllPub</td>\n",
       "      <td>...</td>\n",
       "      <td>0</td>\n",
       "      <td>NaN</td>\n",
       "      <td>NaN</td>\n",
       "      <td>NaN</td>\n",
       "      <td>0</td>\n",
       "      <td>2</td>\n",
       "      <td>2008</td>\n",
       "      <td>WD</td>\n",
       "      <td>Normal</td>\n",
       "      <td>208500</td>\n",
       "    </tr>\n",
       "    <tr>\n",
       "      <th>1</th>\n",
       "      <td>2</td>\n",
       "      <td>20</td>\n",
       "      <td>RL</td>\n",
       "      <td>80.0</td>\n",
       "      <td>9600</td>\n",
       "      <td>Pave</td>\n",
       "      <td>NaN</td>\n",
       "      <td>Reg</td>\n",
       "      <td>Lvl</td>\n",
       "      <td>AllPub</td>\n",
       "      <td>...</td>\n",
       "      <td>0</td>\n",
       "      <td>NaN</td>\n",
       "      <td>NaN</td>\n",
       "      <td>NaN</td>\n",
       "      <td>0</td>\n",
       "      <td>5</td>\n",
       "      <td>2007</td>\n",
       "      <td>WD</td>\n",
       "      <td>Normal</td>\n",
       "      <td>181500</td>\n",
       "    </tr>\n",
       "    <tr>\n",
       "      <th>2</th>\n",
       "      <td>3</td>\n",
       "      <td>60</td>\n",
       "      <td>RL</td>\n",
       "      <td>68.0</td>\n",
       "      <td>11250</td>\n",
       "      <td>Pave</td>\n",
       "      <td>NaN</td>\n",
       "      <td>IR1</td>\n",
       "      <td>Lvl</td>\n",
       "      <td>AllPub</td>\n",
       "      <td>...</td>\n",
       "      <td>0</td>\n",
       "      <td>NaN</td>\n",
       "      <td>NaN</td>\n",
       "      <td>NaN</td>\n",
       "      <td>0</td>\n",
       "      <td>9</td>\n",
       "      <td>2008</td>\n",
       "      <td>WD</td>\n",
       "      <td>Normal</td>\n",
       "      <td>223500</td>\n",
       "    </tr>\n",
       "    <tr>\n",
       "      <th>3</th>\n",
       "      <td>4</td>\n",
       "      <td>70</td>\n",
       "      <td>RL</td>\n",
       "      <td>60.0</td>\n",
       "      <td>9550</td>\n",
       "      <td>Pave</td>\n",
       "      <td>NaN</td>\n",
       "      <td>IR1</td>\n",
       "      <td>Lvl</td>\n",
       "      <td>AllPub</td>\n",
       "      <td>...</td>\n",
       "      <td>0</td>\n",
       "      <td>NaN</td>\n",
       "      <td>NaN</td>\n",
       "      <td>NaN</td>\n",
       "      <td>0</td>\n",
       "      <td>2</td>\n",
       "      <td>2006</td>\n",
       "      <td>WD</td>\n",
       "      <td>Abnorml</td>\n",
       "      <td>140000</td>\n",
       "    </tr>\n",
       "    <tr>\n",
       "      <th>4</th>\n",
       "      <td>5</td>\n",
       "      <td>60</td>\n",
       "      <td>RL</td>\n",
       "      <td>84.0</td>\n",
       "      <td>14260</td>\n",
       "      <td>Pave</td>\n",
       "      <td>NaN</td>\n",
       "      <td>IR1</td>\n",
       "      <td>Lvl</td>\n",
       "      <td>AllPub</td>\n",
       "      <td>...</td>\n",
       "      <td>0</td>\n",
       "      <td>NaN</td>\n",
       "      <td>NaN</td>\n",
       "      <td>NaN</td>\n",
       "      <td>0</td>\n",
       "      <td>12</td>\n",
       "      <td>2008</td>\n",
       "      <td>WD</td>\n",
       "      <td>Normal</td>\n",
       "      <td>250000</td>\n",
       "    </tr>\n",
       "  </tbody>\n",
       "</table>\n",
       "<p>5 rows × 81 columns</p>\n",
       "</div>"
      ],
      "text/plain": [
       "   Id  MSSubClass MSZoning  LotFrontage  LotArea Street Alley LotShape  \\\n",
       "0   1          60       RL         65.0     8450   Pave   NaN      Reg   \n",
       "1   2          20       RL         80.0     9600   Pave   NaN      Reg   \n",
       "2   3          60       RL         68.0    11250   Pave   NaN      IR1   \n",
       "3   4          70       RL         60.0     9550   Pave   NaN      IR1   \n",
       "4   5          60       RL         84.0    14260   Pave   NaN      IR1   \n",
       "\n",
       "  LandContour Utilities  ... PoolArea PoolQC Fence MiscFeature MiscVal MoSold  \\\n",
       "0         Lvl    AllPub  ...        0    NaN   NaN         NaN       0      2   \n",
       "1         Lvl    AllPub  ...        0    NaN   NaN         NaN       0      5   \n",
       "2         Lvl    AllPub  ...        0    NaN   NaN         NaN       0      9   \n",
       "3         Lvl    AllPub  ...        0    NaN   NaN         NaN       0      2   \n",
       "4         Lvl    AllPub  ...        0    NaN   NaN         NaN       0     12   \n",
       "\n",
       "  YrSold  SaleType  SaleCondition  SalePrice  \n",
       "0   2008        WD         Normal     208500  \n",
       "1   2007        WD         Normal     181500  \n",
       "2   2008        WD         Normal     223500  \n",
       "3   2006        WD        Abnorml     140000  \n",
       "4   2008        WD         Normal     250000  \n",
       "\n",
       "[5 rows x 81 columns]"
      ]
     },
     "execution_count": 96,
     "metadata": {},
     "output_type": "execute_result"
    }
   ],
   "source": [
    "df_train=pd.read_csv(\"C:/Users/91842/OneDrive/Desktop/House Prediction/train.csv\")\n",
    "df_train.head()"
   ]
  },
  {
   "cell_type": "code",
   "execution_count": 97,
   "id": "babd3956",
   "metadata": {},
   "outputs": [
    {
     "data": {
      "text/plain": [
       "Id                 0\n",
       "MSSubClass         0\n",
       "MSZoning           4\n",
       "LotFrontage      227\n",
       "LotArea            0\n",
       "                ... \n",
       "MiscVal            0\n",
       "MoSold             0\n",
       "YrSold             0\n",
       "SaleType           1\n",
       "SaleCondition      0\n",
       "Length: 80, dtype: int64"
      ]
     },
     "execution_count": 97,
     "metadata": {},
     "output_type": "execute_result"
    }
   ],
   "source": [
    "df_test.isnull().sum()"
   ]
  },
  {
   "cell_type": "code",
   "execution_count": 98,
   "id": "500236f7",
   "metadata": {},
   "outputs": [
    {
     "name": "stdout",
     "output_type": "stream",
     "text": [
      "<class 'pandas.core.frame.DataFrame'>\n",
      "RangeIndex: 1460 entries, 0 to 1459\n",
      "Data columns (total 81 columns):\n",
      " #   Column         Non-Null Count  Dtype  \n",
      "---  ------         --------------  -----  \n",
      " 0   Id             1460 non-null   int64  \n",
      " 1   MSSubClass     1460 non-null   int64  \n",
      " 2   MSZoning       1460 non-null   object \n",
      " 3   LotFrontage    1201 non-null   float64\n",
      " 4   LotArea        1460 non-null   int64  \n",
      " 5   Street         1460 non-null   object \n",
      " 6   Alley          91 non-null     object \n",
      " 7   LotShape       1460 non-null   object \n",
      " 8   LandContour    1460 non-null   object \n",
      " 9   Utilities      1460 non-null   object \n",
      " 10  LotConfig      1460 non-null   object \n",
      " 11  LandSlope      1460 non-null   object \n",
      " 12  Neighborhood   1460 non-null   object \n",
      " 13  Condition1     1460 non-null   object \n",
      " 14  Condition2     1460 non-null   object \n",
      " 15  BldgType       1460 non-null   object \n",
      " 16  HouseStyle     1460 non-null   object \n",
      " 17  OverallQual    1460 non-null   int64  \n",
      " 18  OverallCond    1460 non-null   int64  \n",
      " 19  YearBuilt      1460 non-null   int64  \n",
      " 20  YearRemodAdd   1460 non-null   int64  \n",
      " 21  RoofStyle      1460 non-null   object \n",
      " 22  RoofMatl       1460 non-null   object \n",
      " 23  Exterior1st    1460 non-null   object \n",
      " 24  Exterior2nd    1460 non-null   object \n",
      " 25  MasVnrType     1452 non-null   object \n",
      " 26  MasVnrArea     1452 non-null   float64\n",
      " 27  ExterQual      1460 non-null   object \n",
      " 28  ExterCond      1460 non-null   object \n",
      " 29  Foundation     1460 non-null   object \n",
      " 30  BsmtQual       1423 non-null   object \n",
      " 31  BsmtCond       1423 non-null   object \n",
      " 32  BsmtExposure   1422 non-null   object \n",
      " 33  BsmtFinType1   1423 non-null   object \n",
      " 34  BsmtFinSF1     1460 non-null   int64  \n",
      " 35  BsmtFinType2   1422 non-null   object \n",
      " 36  BsmtFinSF2     1460 non-null   int64  \n",
      " 37  BsmtUnfSF      1460 non-null   int64  \n",
      " 38  TotalBsmtSF    1460 non-null   int64  \n",
      " 39  Heating        1460 non-null   object \n",
      " 40  HeatingQC      1460 non-null   object \n",
      " 41  CentralAir     1460 non-null   object \n",
      " 42  Electrical     1459 non-null   object \n",
      " 43  1stFlrSF       1460 non-null   int64  \n",
      " 44  2ndFlrSF       1460 non-null   int64  \n",
      " 45  LowQualFinSF   1460 non-null   int64  \n",
      " 46  GrLivArea      1460 non-null   int64  \n",
      " 47  BsmtFullBath   1460 non-null   int64  \n",
      " 48  BsmtHalfBath   1460 non-null   int64  \n",
      " 49  FullBath       1460 non-null   int64  \n",
      " 50  HalfBath       1460 non-null   int64  \n",
      " 51  BedroomAbvGr   1460 non-null   int64  \n",
      " 52  KitchenAbvGr   1460 non-null   int64  \n",
      " 53  KitchenQual    1460 non-null   object \n",
      " 54  TotRmsAbvGrd   1460 non-null   int64  \n",
      " 55  Functional     1460 non-null   object \n",
      " 56  Fireplaces     1460 non-null   int64  \n",
      " 57  FireplaceQu    770 non-null    object \n",
      " 58  GarageType     1379 non-null   object \n",
      " 59  GarageYrBlt    1379 non-null   float64\n",
      " 60  GarageFinish   1379 non-null   object \n",
      " 61  GarageCars     1460 non-null   int64  \n",
      " 62  GarageArea     1460 non-null   int64  \n",
      " 63  GarageQual     1379 non-null   object \n",
      " 64  GarageCond     1379 non-null   object \n",
      " 65  PavedDrive     1460 non-null   object \n",
      " 66  WoodDeckSF     1460 non-null   int64  \n",
      " 67  OpenPorchSF    1460 non-null   int64  \n",
      " 68  EnclosedPorch  1460 non-null   int64  \n",
      " 69  3SsnPorch      1460 non-null   int64  \n",
      " 70  ScreenPorch    1460 non-null   int64  \n",
      " 71  PoolArea       1460 non-null   int64  \n",
      " 72  PoolQC         7 non-null      object \n",
      " 73  Fence          281 non-null    object \n",
      " 74  MiscFeature    54 non-null     object \n",
      " 75  MiscVal        1460 non-null   int64  \n",
      " 76  MoSold         1460 non-null   int64  \n",
      " 77  YrSold         1460 non-null   int64  \n",
      " 78  SaleType       1460 non-null   object \n",
      " 79  SaleCondition  1460 non-null   object \n",
      " 80  SalePrice      1460 non-null   int64  \n",
      "dtypes: float64(3), int64(35), object(43)\n",
      "memory usage: 924.0+ KB\n"
     ]
    }
   ],
   "source": [
    "df_train.info()"
   ]
  },
  {
   "cell_type": "code",
   "execution_count": 99,
   "id": "18d0cd1d",
   "metadata": {},
   "outputs": [
    {
     "name": "stdout",
     "output_type": "stream",
     "text": [
      "<class 'pandas.core.frame.DataFrame'>\n",
      "RangeIndex: 1459 entries, 0 to 1458\n",
      "Data columns (total 80 columns):\n",
      " #   Column         Non-Null Count  Dtype  \n",
      "---  ------         --------------  -----  \n",
      " 0   Id             1459 non-null   int64  \n",
      " 1   MSSubClass     1459 non-null   int64  \n",
      " 2   MSZoning       1455 non-null   object \n",
      " 3   LotFrontage    1232 non-null   float64\n",
      " 4   LotArea        1459 non-null   int64  \n",
      " 5   Street         1459 non-null   object \n",
      " 6   Alley          107 non-null    object \n",
      " 7   LotShape       1459 non-null   object \n",
      " 8   LandContour    1459 non-null   object \n",
      " 9   Utilities      1457 non-null   object \n",
      " 10  LotConfig      1459 non-null   object \n",
      " 11  LandSlope      1459 non-null   object \n",
      " 12  Neighborhood   1459 non-null   object \n",
      " 13  Condition1     1459 non-null   object \n",
      " 14  Condition2     1459 non-null   object \n",
      " 15  BldgType       1459 non-null   object \n",
      " 16  HouseStyle     1459 non-null   object \n",
      " 17  OverallQual    1459 non-null   int64  \n",
      " 18  OverallCond    1459 non-null   int64  \n",
      " 19  YearBuilt      1459 non-null   int64  \n",
      " 20  YearRemodAdd   1459 non-null   int64  \n",
      " 21  RoofStyle      1459 non-null   object \n",
      " 22  RoofMatl       1459 non-null   object \n",
      " 23  Exterior1st    1458 non-null   object \n",
      " 24  Exterior2nd    1458 non-null   object \n",
      " 25  MasVnrType     1443 non-null   object \n",
      " 26  MasVnrArea     1444 non-null   float64\n",
      " 27  ExterQual      1459 non-null   object \n",
      " 28  ExterCond      1459 non-null   object \n",
      " 29  Foundation     1459 non-null   object \n",
      " 30  BsmtQual       1415 non-null   object \n",
      " 31  BsmtCond       1414 non-null   object \n",
      " 32  BsmtExposure   1415 non-null   object \n",
      " 33  BsmtFinType1   1417 non-null   object \n",
      " 34  BsmtFinSF1     1458 non-null   float64\n",
      " 35  BsmtFinType2   1417 non-null   object \n",
      " 36  BsmtFinSF2     1458 non-null   float64\n",
      " 37  BsmtUnfSF      1458 non-null   float64\n",
      " 38  TotalBsmtSF    1458 non-null   float64\n",
      " 39  Heating        1459 non-null   object \n",
      " 40  HeatingQC      1459 non-null   object \n",
      " 41  CentralAir     1459 non-null   object \n",
      " 42  Electrical     1459 non-null   object \n",
      " 43  1stFlrSF       1459 non-null   int64  \n",
      " 44  2ndFlrSF       1459 non-null   int64  \n",
      " 45  LowQualFinSF   1459 non-null   int64  \n",
      " 46  GrLivArea      1459 non-null   int64  \n",
      " 47  BsmtFullBath   1457 non-null   float64\n",
      " 48  BsmtHalfBath   1457 non-null   float64\n",
      " 49  FullBath       1459 non-null   int64  \n",
      " 50  HalfBath       1459 non-null   int64  \n",
      " 51  BedroomAbvGr   1459 non-null   int64  \n",
      " 52  KitchenAbvGr   1459 non-null   int64  \n",
      " 53  KitchenQual    1458 non-null   object \n",
      " 54  TotRmsAbvGrd   1459 non-null   int64  \n",
      " 55  Functional     1457 non-null   object \n",
      " 56  Fireplaces     1459 non-null   int64  \n",
      " 57  FireplaceQu    729 non-null    object \n",
      " 58  GarageType     1383 non-null   object \n",
      " 59  GarageYrBlt    1381 non-null   float64\n",
      " 60  GarageFinish   1381 non-null   object \n",
      " 61  GarageCars     1458 non-null   float64\n",
      " 62  GarageArea     1458 non-null   float64\n",
      " 63  GarageQual     1381 non-null   object \n",
      " 64  GarageCond     1381 non-null   object \n",
      " 65  PavedDrive     1459 non-null   object \n",
      " 66  WoodDeckSF     1459 non-null   int64  \n",
      " 67  OpenPorchSF    1459 non-null   int64  \n",
      " 68  EnclosedPorch  1459 non-null   int64  \n",
      " 69  3SsnPorch      1459 non-null   int64  \n",
      " 70  ScreenPorch    1459 non-null   int64  \n",
      " 71  PoolArea       1459 non-null   int64  \n",
      " 72  PoolQC         3 non-null      object \n",
      " 73  Fence          290 non-null    object \n",
      " 74  MiscFeature    51 non-null     object \n",
      " 75  MiscVal        1459 non-null   int64  \n",
      " 76  MoSold         1459 non-null   int64  \n",
      " 77  YrSold         1459 non-null   int64  \n",
      " 78  SaleType       1458 non-null   object \n",
      " 79  SaleCondition  1459 non-null   object \n",
      "dtypes: float64(11), int64(26), object(43)\n",
      "memory usage: 912.0+ KB\n"
     ]
    }
   ],
   "source": [
    "df_test.info()"
   ]
  },
  {
   "cell_type": "code",
   "execution_count": 100,
   "id": "26358be3",
   "metadata": {},
   "outputs": [
    {
     "data": {
      "text/plain": [
       "<AxesSubplot:>"
      ]
     },
     "execution_count": 100,
     "metadata": {},
     "output_type": "execute_result"
    },
    {
     "data": {
      "image/png": "[encoded data removed]",
      "text/plain": [
       "<Figure size 432x288 with 1 Axes>"
      ]
     },
     "metadata": {
      "needs_background": "light"
     },
     "output_type": "display_data"
    }
   ],
   "source": [
    "sns.heatmap(df_train.isnull(),yticklabels=False,cbar=False)"
   ]
  },
  {
   "cell_type": "code",
   "execution_count": 101,
   "id": "a5209222",
   "metadata": {},
   "outputs": [
    {
     "data": {
      "text/plain": [
       "<AxesSubplot:>"
      ]
     },
     "execution_count": 101,
     "metadata": {},
     "output_type": "execute_result"
    },
    {
     "data": {
      "image/png": "[encoded data removed]",
      "text/plain": [
       "<Figure size 432x288 with 1 Axes>"
      ]
     },
     "metadata": {
      "needs_background": "light"
     },
     "output_type": "display_data"
    }
   ],
   "source": [
    "sns.heatmap(df_test.isnull(),yticklabels=False,cbar=False,cmap='copper')"
   ]
  },
  {
   "cell_type": "code",
   "execution_count": 102,
   "id": "971e27b0",
   "metadata": {},
   "outputs": [
    {
     "data": {
      "text/plain": [
       "Index(['Id', 'MSSubClass', 'MSZoning', 'LotFrontage', 'LotArea', 'Street',\n",
       "       'Alley', 'LotShape', 'LandContour', 'Utilities', 'LotConfig',\n",
       "       'LandSlope', 'Neighborhood', 'Condition1', 'Condition2', 'BldgType',\n",
       "       'HouseStyle', 'OverallQual', 'OverallCond', 'YearBuilt', 'YearRemodAdd',\n",
       "       'RoofStyle', 'RoofMatl', 'Exterior1st', 'Exterior2nd', 'MasVnrType',\n",
       "       'MasVnrArea', 'ExterQual', 'ExterCond', 'Foundation', 'BsmtQual',\n",
       "       'BsmtCond', 'BsmtExposure', 'BsmtFinType1', 'BsmtFinSF1',\n",
       "       'BsmtFinType2', 'BsmtFinSF2', 'BsmtUnfSF', 'TotalBsmtSF', 'Heating',\n",
       "       'HeatingQC', 'CentralAir', 'Electrical', '1stFlrSF', '2ndFlrSF',\n",
       "       'LowQualFinSF', 'GrLivArea', 'BsmtFullBath', 'BsmtHalfBath', 'FullBath',\n",
       "       'HalfBath', 'BedroomAbvGr', 'KitchenAbvGr', 'KitchenQual',\n",
       "       'TotRmsAbvGrd', 'Functional', 'Fireplaces', 'FireplaceQu', 'GarageType',\n",
       "       'GarageYrBlt', 'GarageFinish', 'GarageCars', 'GarageArea', 'GarageQual',\n",
       "       'GarageCond', 'PavedDrive', 'WoodDeckSF', 'OpenPorchSF',\n",
       "       'EnclosedPorch', '3SsnPorch', 'ScreenPorch', 'PoolArea', 'PoolQC',\n",
       "       'Fence', 'MiscFeature', 'MiscVal', 'MoSold', 'YrSold', 'SaleType',\n",
       "       'SaleCondition', 'SalePrice'],\n",
       "      dtype='object')"
      ]
     },
     "execution_count": 102,
     "metadata": {},
     "output_type": "execute_result"
    }
   ],
   "source": [
    "df_train.columns"
   ]
  },
  {
   "cell_type": "code",
   "execution_count": 103,
   "id": "ae6c86f3",
   "metadata": {},
   "outputs": [
    {
     "data": {
      "text/plain": [
       "Index(['Id', 'MSSubClass', 'MSZoning', 'LotFrontage', 'LotArea', 'Street',\n",
       "       'Alley', 'LotShape', 'LandContour', 'Utilities', 'LotConfig',\n",
       "       'LandSlope', 'Neighborhood', 'Condition1', 'Condition2', 'BldgType',\n",
       "       'HouseStyle', 'OverallQual', 'OverallCond', 'YearBuilt', 'YearRemodAdd',\n",
       "       'RoofStyle', 'RoofMatl', 'Exterior1st', 'Exterior2nd', 'MasVnrType',\n",
       "       'MasVnrArea', 'ExterQual', 'ExterCond', 'Foundation', 'BsmtQual',\n",
       "       'BsmtCond', 'BsmtExposure', 'BsmtFinType1', 'BsmtFinSF1',\n",
       "       'BsmtFinType2', 'BsmtFinSF2', 'BsmtUnfSF', 'TotalBsmtSF', 'Heating',\n",
       "       'HeatingQC', 'CentralAir', 'Electrical', '1stFlrSF', '2ndFlrSF',\n",
       "       'LowQualFinSF', 'GrLivArea', 'BsmtFullBath', 'BsmtHalfBath', 'FullBath',\n",
       "       'HalfBath', 'BedroomAbvGr', 'KitchenAbvGr', 'KitchenQual',\n",
       "       'TotRmsAbvGrd', 'Functional', 'Fireplaces', 'FireplaceQu', 'GarageType',\n",
       "       'GarageYrBlt', 'GarageFinish', 'GarageCars', 'GarageArea', 'GarageQual',\n",
       "       'GarageCond', 'PavedDrive', 'WoodDeckSF', 'OpenPorchSF',\n",
       "       'EnclosedPorch', '3SsnPorch', 'ScreenPorch', 'PoolArea', 'PoolQC',\n",
       "       'Fence', 'MiscFeature', 'MiscVal', 'MoSold', 'YrSold', 'SaleType',\n",
       "       'SaleCondition'],\n",
       "      dtype='object')"
      ]
     },
     "execution_count": 103,
     "metadata": {},
     "output_type": "execute_result"
    }
   ],
   "source": [
    "df_test.columns"
   ]
  },
  {
   "cell_type": "code",
   "execution_count": 104,
   "id": "10c44505",
   "metadata": {},
   "outputs": [],
   "source": [
    "df_train['LotFrontage']=df_train['LotFrontage'].fillna(df_train['LotFrontage'].mean())\n",
    "df_test['LotFrontage']=df_test['LotFrontage'].fillna(df_test['LotFrontage'].mean())"
   ]
  },
  {
   "cell_type": "code",
   "execution_count": 105,
   "id": "cd98f133",
   "metadata": {},
   "outputs": [],
   "source": [
    "df_train.drop(['Alley'],axis=1,inplace=True)\n",
    "df_test.drop(['Alley'],axis=1,inplace=True)"
   ]
  },
  {
   "cell_type": "code",
   "execution_count": 106,
   "id": "a79f7877",
   "metadata": {},
   "outputs": [],
   "source": [
    "df_train['ExterQual']=df_train['ExterQual'].fillna(df_train['ExterQual'].mode()[0])\n",
    "df_test['ExterQual']=df_test['ExterQual'].fillna(df_test['ExterQual'].mode()[0])"
   ]
  },
  {
   "cell_type": "code",
   "execution_count": 107,
   "id": "c6a72894",
   "metadata": {},
   "outputs": [],
   "source": [
    "df_train['BsmtQual']=df_train['BsmtQual'].fillna(df_train['BsmtQual'].mode()[0])\n",
    "df_test['BsmtQual']=df_test['BsmtQual'].fillna(df_test['BsmtQual'].mode()[0])"
   ]
  },
  {
   "cell_type": "code",
   "execution_count": 108,
   "id": "6e5d93de",
   "metadata": {},
   "outputs": [],
   "source": [
    "df_train['BsmtFinType1']=df_train['BsmtFinType1'].fillna(df_train['BsmtFinType1'].mode()[0])\n",
    "df_test['BsmtFinType1']=df_test['BsmtFinType1'].fillna(df_test['BsmtFinType1'].mode()[0])"
   ]
  },
  {
   "cell_type": "code",
   "execution_count": 109,
   "id": "932f7147",
   "metadata": {},
   "outputs": [],
   "source": [
    "df_train['BsmtFinSF2']=df_train['BsmtFinSF2'].fillna(df_train['BsmtFinSF2'].mode()[0])\n",
    "df_test['BsmtFinSF2']=df_test['BsmtFinSF2'].fillna(df_test['BsmtFinSF2'].mode()[0])"
   ]
  },
  {
   "cell_type": "code",
   "execution_count": 110,
   "id": "d8ee04cf",
   "metadata": {},
   "outputs": [],
   "source": [
    "df_train['FireplaceQu']=df_train['FireplaceQu'].fillna(df_train['FireplaceQu'].mode()[0])\n",
    "df_test['FireplaceQu']=df_test['FireplaceQu'].fillna(df_test['FireplaceQu'].mode()[0])"
   ]
  },
  {
   "cell_type": "code",
   "execution_count": 111,
   "id": "f9cbf4e3",
   "metadata": {},
   "outputs": [],
   "source": [
    "df_train['GarageFinish']=df_train['GarageFinish'].fillna(df_train['GarageFinish'].mode()[0])\n",
    "df_test['GarageFinish']=df_test['GarageFinish'].fillna(df_test['GarageFinish'].mode()[0])"
   ]
  },
  {
   "cell_type": "code",
   "execution_count": 112,
   "id": "0a37ea27",
   "metadata": {},
   "outputs": [],
   "source": [
    "df_train['GarageQual']=df_train['GarageQual'].fillna(df_train['GarageQual'].mode()[0])\n",
    "df_test['GarageQual']=df_test['GarageQual'].fillna(df_test['GarageQual'].mode()[0])"
   ]
  },
  {
   "cell_type": "code",
   "execution_count": 113,
   "id": "751737b9",
   "metadata": {},
   "outputs": [],
   "source": [
    "df_train['GarageQual']=df_train['GarageQual'].fillna(df_train['GarageQual'].mode()[0])\n",
    "df_test['GarageQual']=df_test['GarageQual'].fillna(df_test['GarageQual'].mode()[0])"
   ]
  },
  {
   "cell_type": "code",
   "execution_count": 114,
   "id": "77782558",
   "metadata": {},
   "outputs": [],
   "source": [
    "df_train['BsmtCond']=df_train['BsmtCond'].fillna(df_train['BsmtCond'].mode()[0])\n",
    "df_test['BsmtCond']=df_test['BsmtCond'].fillna(df_test['BsmtCond'].mode()[0])"
   ]
  },
  {
   "cell_type": "code",
   "execution_count": 115,
   "id": "2968227d",
   "metadata": {},
   "outputs": [],
   "source": [
    "df_train['GarageCond']=df_train['GarageCond'].fillna(df_train['GarageCond'].mode()[0])\n",
    "df_test['GarageCond']=df_test['GarageCond'].fillna(df_test['GarageCond'].mode()[0])"
   ]
  },
  {
   "cell_type": "code",
   "execution_count": 116,
   "id": "d468697f",
   "metadata": {},
   "outputs": [],
   "source": [
    "df_train['GarageType']=df_train['GarageType'].fillna(df_train['GarageType'].mode()[0])\n",
    "df_test['GarageType']=df_test['GarageType'].fillna(df_test['GarageType'].mode()[0])"
   ]
  },
  {
   "cell_type": "code",
   "execution_count": 117,
   "id": "cc56f55d",
   "metadata": {},
   "outputs": [],
   "source": [
    "df_train['BsmtFinType2']=df_train['BsmtFinType2'].fillna(df_train['BsmtFinType2'].mode()[0])\n",
    "df_test['BsmtFinType2']=df_test['BsmtFinType2'].fillna(df_test['BsmtFinType2'].mode()[0])"
   ]
  },
  {
   "cell_type": "code",
   "execution_count": 118,
   "id": "867e0e0d",
   "metadata": {},
   "outputs": [],
   "source": [
    "df_train['BsmtExposure']=df_train['BsmtExposure'].fillna(df_train['BsmtExposure'].mode()[0])\n",
    "df_test['BsmtExposure']=df_test['BsmtExposure'].fillna(df_test['BsmtExposure'].mode()[0])"
   ]
  },
  {
   "cell_type": "code",
   "execution_count": 119,
   "id": "2738379e",
   "metadata": {},
   "outputs": [],
   "source": [
    "df_train['GarageYrBlt']=df_train['GarageYrBlt'].fillna(df_train['GarageYrBlt'].mode()[0])\n",
    "df_test['GarageYrBlt']=df_test['GarageYrBlt'].fillna(df_test['GarageYrBlt'].mode()[0])"
   ]
  },
  {
   "cell_type": "code",
   "execution_count": 120,
   "id": "51543f90",
   "metadata": {},
   "outputs": [],
   "source": [
    "df_train.drop(['PoolQC'],axis=1,inplace=True)\n",
    "df_test.drop(['PoolQC'],axis=1,inplace=True)"
   ]
  },
  {
   "cell_type": "code",
   "execution_count": 121,
   "id": "8707b28c",
   "metadata": {},
   "outputs": [],
   "source": [
    "df_train.drop(['MiscFeature'],axis=1,inplace=True)\n",
    "df_test.drop(['MiscFeature'],axis=1,inplace=True)"
   ]
  },
  {
   "cell_type": "code",
   "execution_count": 122,
   "id": "5bfe40a2",
   "metadata": {},
   "outputs": [],
   "source": [
    "df_train.drop(['Fence'],axis=1,inplace=True)\n",
    "df_test.drop(['Fence'],axis=1,inplace=True)"
   ]
  },
  {
   "cell_type": "code",
   "execution_count": 123,
   "id": "b4729292",
   "metadata": {},
   "outputs": [
    {
     "data": {
      "text/plain": [
       "<AxesSubplot:>"
      ]
     },
     "execution_count": 123,
     "metadata": {},
     "output_type": "execute_result"
    },
    {
     "data": {
      "image/png": "[encoded data removed]",
      "text/plain": [
       "<Figure size 432x288 with 1 Axes>"
      ]
     },
     "metadata": {
      "needs_background": "light"
     },
     "output_type": "display_data"
    }
   ],
   "source": [
    "sns.heatmap(df_train.isnull(),yticklabels=False,cbar=False,cmap='Accent')"
   ]
  },
  {
   "cell_type": "code",
   "execution_count": 124,
   "id": "631636d3",
   "metadata": {},
   "outputs": [
    {
     "data": {
      "text/plain": [
       "<AxesSubplot:>"
      ]
     },
     "execution_count": 124,
     "metadata": {},
     "output_type": "execute_result"
    },
    {
     "data": {
      "image/png": "[encoded data removed]",
      "text/plain": [
       "<Figure size 432x288 with 1 Axes>"
      ]
     },
     "metadata": {
      "needs_background": "light"
     },
     "output_type": "display_data"
    }
   ],
   "source": [
    "sns.heatmap(df_test.isnull(),yticklabels=False,cbar=False,cmap='flag')"
   ]
  },
  {
   "cell_type": "code",
   "execution_count": 125,
   "id": "8b3ca93c",
   "metadata": {},
   "outputs": [],
   "source": [
    "new_df_train=df_train.dropna()\n",
    "new_df_test=df_test.dropna()"
   ]
  },
  {
   "cell_type": "code",
   "execution_count": 126,
   "id": "bf7045ec",
   "metadata": {},
   "outputs": [
    {
     "data": {
      "text/plain": [
       "<AxesSubplot:>"
      ]
     },
     "execution_count": 126,
     "metadata": {},
     "output_type": "execute_result"
    },
    {
     "data": {
      "image/png": "[encoded data removed]",
      "text/plain": [
       "<Figure size 432x288 with 1 Axes>"
      ]
     },
     "metadata": {
      "needs_background": "light"
     },
     "output_type": "display_data"
    }
   ],
   "source": [
    "sns.heatmap(new_df_train.isnull(),yticklabels=False,cbar=False,cmap='winter')"
   ]
  },
  {
   "cell_type": "code",
   "execution_count": 127,
   "id": "be0cb261",
   "metadata": {},
   "outputs": [
    {
     "data": {
      "text/plain": [
       "<AxesSubplot:>"
      ]
     },
     "execution_count": 127,
     "metadata": {},
     "output_type": "execute_result"
    },
    {
     "data": {
      "image/png": "[encoded data removed]",
      "text/plain": [
       "<Figure size 432x288 with 1 Axes>"
      ]
     },
     "metadata": {
      "needs_background": "light"
     },
     "output_type": "display_data"
    }
   ],
   "source": [
    "sns.heatmap(new_df_test.isnull(),yticklabels=False,cbar=False,cmap='gist_rainbow')"
   ]
  },
  {
   "cell_type": "code",
   "execution_count": 128,
   "id": "bd57248c",
   "metadata": {},
   "outputs": [
    {
     "name": "stdout",
     "output_type": "stream",
     "text": [
      "<class 'pandas.core.frame.DataFrame'>\n",
      "Int64Index: 1431 entries, 0 to 1458\n",
      "Data columns (total 76 columns):\n",
      " #   Column         Non-Null Count  Dtype  \n",
      "---  ------         --------------  -----  \n",
      " 0   Id             1431 non-null   int64  \n",
      " 1   MSSubClass     1431 non-null   int64  \n",
      " 2   MSZoning       1431 non-null   object \n",
      " 3   LotFrontage    1431 non-null   float64\n",
      " 4   LotArea        1431 non-null   int64  \n",
      " 5   Street         1431 non-null   object \n",
      " 6   LotShape       1431 non-null   object \n",
      " 7   LandContour    1431 non-null   object \n",
      " 8   Utilities      1431 non-null   object \n",
      " 9   LotConfig      1431 non-null   object \n",
      " 10  LandSlope      1431 non-null   object \n",
      " 11  Neighborhood   1431 non-null   object \n",
      " 12  Condition1     1431 non-null   object \n",
      " 13  Condition2     1431 non-null   object \n",
      " 14  BldgType       1431 non-null   object \n",
      " 15  HouseStyle     1431 non-null   object \n",
      " 16  OverallQual    1431 non-null   int64  \n",
      " 17  OverallCond    1431 non-null   int64  \n",
      " 18  YearBuilt      1431 non-null   int64  \n",
      " 19  YearRemodAdd   1431 non-null   int64  \n",
      " 20  RoofStyle      1431 non-null   object \n",
      " 21  RoofMatl       1431 non-null   object \n",
      " 22  Exterior1st    1431 non-null   object \n",
      " 23  Exterior2nd    1431 non-null   object \n",
      " 24  MasVnrType     1431 non-null   object \n",
      " 25  MasVnrArea     1431 non-null   float64\n",
      " 26  ExterQual      1431 non-null   object \n",
      " 27  ExterCond      1431 non-null   object \n",
      " 28  Foundation     1431 non-null   object \n",
      " 29  BsmtQual       1431 non-null   object \n",
      " 30  BsmtCond       1431 non-null   object \n",
      " 31  BsmtExposure   1431 non-null   object \n",
      " 32  BsmtFinType1   1431 non-null   object \n",
      " 33  BsmtFinSF1     1431 non-null   float64\n",
      " 34  BsmtFinType2   1431 non-null   object \n",
      " 35  BsmtFinSF2     1431 non-null   float64\n",
      " 36  BsmtUnfSF      1431 non-null   float64\n",
      " 37  TotalBsmtSF    1431 non-null   float64\n",
      " 38  Heating        1431 non-null   object \n",
      " 39  HeatingQC      1431 non-null   object \n",
      " 40  CentralAir     1431 non-null   object \n",
      " 41  Electrical     1431 non-null   object \n",
      " 42  1stFlrSF       1431 non-null   int64  \n",
      " 43  2ndFlrSF       1431 non-null   int64  \n",
      " 44  LowQualFinSF   1431 non-null   int64  \n",
      " 45  GrLivArea      1431 non-null   int64  \n",
      " 46  BsmtFullBath   1431 non-null   float64\n",
      " 47  BsmtHalfBath   1431 non-null   float64\n",
      " 48  FullBath       1431 non-null   int64  \n",
      " 49  HalfBath       1431 non-null   int64  \n",
      " 50  BedroomAbvGr   1431 non-null   int64  \n",
      " 51  KitchenAbvGr   1431 non-null   int64  \n",
      " 52  KitchenQual    1431 non-null   object \n",
      " 53  TotRmsAbvGrd   1431 non-null   int64  \n",
      " 54  Functional     1431 non-null   object \n",
      " 55  Fireplaces     1431 non-null   int64  \n",
      " 56  FireplaceQu    1431 non-null   object \n",
      " 57  GarageType     1431 non-null   object \n",
      " 58  GarageYrBlt    1431 non-null   float64\n",
      " 59  GarageFinish   1431 non-null   object \n",
      " 60  GarageCars     1431 non-null   float64\n",
      " 61  GarageArea     1431 non-null   float64\n",
      " 62  GarageQual     1431 non-null   object \n",
      " 63  GarageCond     1431 non-null   object \n",
      " 64  PavedDrive     1431 non-null   object \n",
      " 65  WoodDeckSF     1431 non-null   int64  \n",
      " 66  OpenPorchSF    1431 non-null   int64  \n",
      " 67  EnclosedPorch  1431 non-null   int64  \n",
      " 68  3SsnPorch      1431 non-null   int64  \n",
      " 69  ScreenPorch    1431 non-null   int64  \n",
      " 70  PoolArea       1431 non-null   int64  \n",
      " 71  MiscVal        1431 non-null   int64  \n",
      " 72  MoSold         1431 non-null   int64  \n",
      " 73  YrSold         1431 non-null   int64  \n",
      " 74  SaleType       1431 non-null   object \n",
      " 75  SaleCondition  1431 non-null   object \n",
      "dtypes: float64(11), int64(26), object(39)\n",
      "memory usage: 860.8+ KB\n",
      "<class 'pandas.core.frame.DataFrame'>\n",
      "Int64Index: 1451 entries, 0 to 1459\n",
      "Data columns (total 77 columns):\n",
      " #   Column         Non-Null Count  Dtype  \n",
      "---  ------         --------------  -----  \n",
      " 0   Id             1451 non-null   int64  \n",
      " 1   MSSubClass     1451 non-null   int64  \n",
      " 2   MSZoning       1451 non-null   object \n",
      " 3   LotFrontage    1451 non-null   float64\n",
      " 4   LotArea        1451 non-null   int64  \n",
      " 5   Street         1451 non-null   object \n",
      " 6   LotShape       1451 non-null   object \n",
      " 7   LandContour    1451 non-null   object \n",
      " 8   Utilities      1451 non-null   object \n",
      " 9   LotConfig      1451 non-null   object \n",
      " 10  LandSlope      1451 non-null   object \n",
      " 11  Neighborhood   1451 non-null   object \n",
      " 12  Condition1     1451 non-null   object \n",
      " 13  Condition2     1451 non-null   object \n",
      " 14  BldgType       1451 non-null   object \n",
      " 15  HouseStyle     1451 non-null   object \n",
      " 16  OverallQual    1451 non-null   int64  \n",
      " 17  OverallCond    1451 non-null   int64  \n",
      " 18  YearBuilt      1451 non-null   int64  \n",
      " 19  YearRemodAdd   1451 non-null   int64  \n",
      " 20  RoofStyle      1451 non-null   object \n",
      " 21  RoofMatl       1451 non-null   object \n",
      " 22  Exterior1st    1451 non-null   object \n",
      " 23  Exterior2nd    1451 non-null   object \n",
      " 24  MasVnrType     1451 non-null   object \n",
      " 25  MasVnrArea     1451 non-null   float64\n",
      " 26  ExterQual      1451 non-null   object \n",
      " 27  ExterCond      1451 non-null   object \n",
      " 28  Foundation     1451 non-null   object \n",
      " 29  BsmtQual       1451 non-null   object \n",
      " 30  BsmtCond       1451 non-null   object \n",
      " 31  BsmtExposure   1451 non-null   object \n",
      " 32  BsmtFinType1   1451 non-null   object \n",
      " 33  BsmtFinSF1     1451 non-null   int64  \n",
      " 34  BsmtFinType2   1451 non-null   object \n",
      " 35  BsmtFinSF2     1451 non-null   int64  \n",
      " 36  BsmtUnfSF      1451 non-null   int64  \n",
      " 37  TotalBsmtSF    1451 non-null   int64  \n",
      " 38  Heating        1451 non-null   object \n",
      " 39  HeatingQC      1451 non-null   object \n",
      " 40  CentralAir     1451 non-null   object \n",
      " 41  Electrical     1451 non-null   object \n",
      " 42  1stFlrSF       1451 non-null   int64  \n",
      " 43  2ndFlrSF       1451 non-null   int64  \n",
      " 44  LowQualFinSF   1451 non-null   int64  \n",
      " 45  GrLivArea      1451 non-null   int64  \n",
      " 46  BsmtFullBath   1451 non-null   int64  \n",
      " 47  BsmtHalfBath   1451 non-null   int64  \n",
      " 48  FullBath       1451 non-null   int64  \n",
      " 49  HalfBath       1451 non-null   int64  \n",
      " 50  BedroomAbvGr   1451 non-null   int64  \n",
      " 51  KitchenAbvGr   1451 non-null   int64  \n",
      " 52  KitchenQual    1451 non-null   object \n",
      " 53  TotRmsAbvGrd   1451 non-null   int64  \n",
      " 54  Functional     1451 non-null   object \n",
      " 55  Fireplaces     1451 non-null   int64  \n",
      " 56  FireplaceQu    1451 non-null   object \n",
      " 57  GarageType     1451 non-null   object \n",
      " 58  GarageYrBlt    1451 non-null   float64\n",
      " 59  GarageFinish   1451 non-null   object \n",
      " 60  GarageCars     1451 non-null   int64  \n",
      " 61  GarageArea     1451 non-null   int64  \n",
      " 62  GarageQual     1451 non-null   object \n",
      " 63  GarageCond     1451 non-null   object \n",
      " 64  PavedDrive     1451 non-null   object \n",
      " 65  WoodDeckSF     1451 non-null   int64  \n",
      " 66  OpenPorchSF    1451 non-null   int64  \n",
      " 67  EnclosedPorch  1451 non-null   int64  \n",
      " 68  3SsnPorch      1451 non-null   int64  \n",
      " 69  ScreenPorch    1451 non-null   int64  \n",
      " 70  PoolArea       1451 non-null   int64  \n",
      " 71  MiscVal        1451 non-null   int64  \n",
      " 72  MoSold         1451 non-null   int64  \n",
      " 73  YrSold         1451 non-null   int64  \n",
      " 74  SaleType       1451 non-null   object \n",
      " 75  SaleCondition  1451 non-null   object \n",
      " 76  SalePrice      1451 non-null   int64  \n",
      "dtypes: float64(3), int64(35), object(39)\n",
      "memory usage: 884.2+ KB\n"
     ]
    }
   ],
   "source": [
    "new_df_test.info()\n",
    "new_df_train.info()"
   ]
  },
  {
   "cell_type": "code",
   "execution_count": 129,
   "id": "593140d5",
   "metadata": {},
   "outputs": [
    {
     "data": {
      "text/plain": [
       "(1431, 76)"
      ]
     },
     "execution_count": 129,
     "metadata": {},
     "output_type": "execute_result"
    }
   ],
   "source": [
    "new_df_test.shape"
   ]
  },
  {
   "cell_type": "code",
   "execution_count": 130,
   "id": "3cfc9d3c",
   "metadata": {},
   "outputs": [
    {
     "data": {
      "text/plain": [
       "(1451, 77)"
      ]
     },
     "execution_count": 130,
     "metadata": {},
     "output_type": "execute_result"
    }
   ],
   "source": [
    "new_df_train.shape"
   ]
  },
  {
   "cell_type": "code",
   "execution_count": 131,
   "id": "0ca7807f",
   "metadata": {},
   "outputs": [],
   "source": [
    "final_df=pd.concat([new_df_train,new_df_test],axis=0)"
   ]
  },
  {
   "cell_type": "code",
   "execution_count": 132,
   "id": "c907925b",
   "metadata": {},
   "outputs": [
    {
     "data": {
      "text/plain": [
       "0       208500.0\n",
       "1       181500.0\n",
       "2       223500.0\n",
       "3       140000.0\n",
       "4       250000.0\n",
       "          ...   \n",
       "1454         NaN\n",
       "1455         NaN\n",
       "1456         NaN\n",
       "1457         NaN\n",
       "1458         NaN\n",
       "Name: SalePrice, Length: 2882, dtype: float64"
      ]
     },
     "execution_count": 132,
     "metadata": {},
     "output_type": "execute_result"
    }
   ],
   "source": [
    "final_df['SalePrice']"
   ]
  },
  {
   "cell_type": "code",
   "execution_count": 133,
   "id": "f5420d68",
   "metadata": {},
   "outputs": [
    {
     "data": {
      "text/plain": [
       "(2882, 77)"
      ]
     },
     "execution_count": 133,
     "metadata": {},
     "output_type": "execute_result"
    }
   ],
   "source": [
    "final_df.shape"
   ]
  },
  {
   "cell_type": "code",
   "execution_count": 134,
   "id": "1bf7c43d",
   "metadata": {},
   "outputs": [
    {
     "data": {
      "text/plain": [
       "Index(['Id', 'MSSubClass', 'MSZoning', 'LotFrontage', 'LotArea', 'Street',\n",
       "       'LotShape', 'LandContour', 'Utilities', 'LotConfig', 'LandSlope',\n",
       "       'Neighborhood', 'Condition1', 'Condition2', 'BldgType', 'HouseStyle',\n",
       "       'OverallQual', 'OverallCond', 'YearBuilt', 'YearRemodAdd', 'RoofStyle',\n",
       "       'RoofMatl', 'Exterior1st', 'Exterior2nd', 'MasVnrType', 'MasVnrArea',\n",
       "       'ExterQual', 'ExterCond', 'Foundation', 'BsmtQual', 'BsmtCond',\n",
       "       'BsmtExposure', 'BsmtFinType1', 'BsmtFinSF1', 'BsmtFinType2',\n",
       "       'BsmtFinSF2', 'BsmtUnfSF', 'TotalBsmtSF', 'Heating', 'HeatingQC',\n",
       "       'CentralAir', 'Electrical', '1stFlrSF', '2ndFlrSF', 'LowQualFinSF',\n",
       "       'GrLivArea', 'BsmtFullBath', 'BsmtHalfBath', 'FullBath', 'HalfBath',\n",
       "       'BedroomAbvGr', 'KitchenAbvGr', 'KitchenQual', 'TotRmsAbvGrd',\n",
       "       'Functional', 'Fireplaces', 'FireplaceQu', 'GarageType', 'GarageYrBlt',\n",
       "       'GarageFinish', 'GarageCars', 'GarageArea', 'GarageQual', 'GarageCond',\n",
       "       'PavedDrive', 'WoodDeckSF', 'OpenPorchSF', 'EnclosedPorch', '3SsnPorch',\n",
       "       'ScreenPorch', 'PoolArea', 'MiscVal', 'MoSold', 'YrSold', 'SaleType',\n",
       "       'SaleCondition', 'SalePrice'],\n",
       "      dtype='object')"
      ]
     },
     "execution_count": 134,
     "metadata": {},
     "output_type": "execute_result"
    }
   ],
   "source": [
    "final_df.columns"
   ]
  },
  {
   "cell_type": "code",
   "execution_count": 135,
   "id": "59587403",
   "metadata": {},
   "outputs": [
    {
     "data": {
      "text/plain": [
       "(2882, 277)"
      ]
     },
     "execution_count": 135,
     "metadata": {},
     "output_type": "execute_result"
    }
   ],
   "source": [
    "final_df=pd.get_dummies(final_df)\n",
    "final_df.shape"
   ]
  },
  {
   "cell_type": "code",
   "execution_count": 136,
   "id": "3a046237",
   "metadata": {},
   "outputs": [
    {
     "data": {
      "text/plain": [
       "Index(['Id', 'MSSubClass', 'LotFrontage', 'LotArea', 'OverallQual',\n",
       "       'OverallCond', 'YearBuilt', 'YearRemodAdd', 'MasVnrArea', 'BsmtFinSF1',\n",
       "       ...\n",
       "       'SaleType_ConLw', 'SaleType_New', 'SaleType_Oth', 'SaleType_WD',\n",
       "       'SaleCondition_Abnorml', 'SaleCondition_AdjLand',\n",
       "       'SaleCondition_Alloca', 'SaleCondition_Family', 'SaleCondition_Normal',\n",
       "       'SaleCondition_Partial'],\n",
       "      dtype='object', length=277)"
      ]
     },
     "execution_count": 136,
     "metadata": {},
     "output_type": "execute_result"
    }
   ],
   "source": [
    "final_df.columns"
   ]
  },
  {
   "cell_type": "code",
   "execution_count": 137,
   "id": "653fde2d",
   "metadata": {},
   "outputs": [
    {
     "data": {
      "text/plain": [
       "(2882, 277)"
      ]
     },
     "execution_count": 137,
     "metadata": {},
     "output_type": "execute_result"
    }
   ],
   "source": [
    "final_df.drop_duplicates(subset=None,keep='first',inplace=False)\n",
    "final_df.shape"
   ]
  },
  {
   "cell_type": "code",
   "execution_count": 138,
   "id": "063ae806",
   "metadata": {},
   "outputs": [
    {
     "name": "stdout",
     "output_type": "stream",
     "text": [
      "<class 'pandas.core.frame.DataFrame'>\n",
      "Int64Index: 2882 entries, 0 to 1458\n",
      "Columns: 277 entries, Id to SaleCondition_Partial\n",
      "dtypes: float64(12), int64(26), uint8(239)\n",
      "memory usage: 1.5 MB\n",
      "None\n"
     ]
    }
   ],
   "source": [
    "print(final_df.info())"
   ]
  },
  {
   "cell_type": "code",
   "execution_count": 139,
   "id": "6183aaf5",
   "metadata": {},
   "outputs": [],
   "source": [
    "train_df=final_df.iloc[:1441,:]\n",
    "test_df=final_df.iloc[1441:,:]"
   ]
  },
  {
   "cell_type": "code",
   "execution_count": 140,
   "id": "53bbdd7c",
   "metadata": {},
   "outputs": [
    {
     "data": {
      "text/html": [
       "<div>\n",
       "<style scoped>\n",
       "    .dataframe tbody tr th:only-of-type {\n",
       "        vertical-align: middle;\n",
       "    }\n",
       "\n",
       "    .dataframe tbody tr th {\n",
       "        vertical-align: top;\n",
       "    }\n",
       "\n",
       "    .dataframe thead th {\n",
       "        text-align: right;\n",
       "    }\n",
       "</style>\n",
       "<table border=\"1\" class=\"dataframe\">\n",
       "  <thead>\n",
       "    <tr style=\"text-align: right;\">\n",
       "      <th></th>\n",
       "      <th>Id</th>\n",
       "      <th>MSSubClass</th>\n",
       "      <th>LotFrontage</th>\n",
       "      <th>LotArea</th>\n",
       "      <th>OverallQual</th>\n",
       "      <th>OverallCond</th>\n",
       "      <th>YearBuilt</th>\n",
       "      <th>YearRemodAdd</th>\n",
       "      <th>MasVnrArea</th>\n",
       "      <th>BsmtFinSF1</th>\n",
       "      <th>...</th>\n",
       "      <th>SaleType_ConLw</th>\n",
       "      <th>SaleType_New</th>\n",
       "      <th>SaleType_Oth</th>\n",
       "      <th>SaleType_WD</th>\n",
       "      <th>SaleCondition_Abnorml</th>\n",
       "      <th>SaleCondition_AdjLand</th>\n",
       "      <th>SaleCondition_Alloca</th>\n",
       "      <th>SaleCondition_Family</th>\n",
       "      <th>SaleCondition_Normal</th>\n",
       "      <th>SaleCondition_Partial</th>\n",
       "    </tr>\n",
       "  </thead>\n",
       "  <tbody>\n",
       "    <tr>\n",
       "      <th>0</th>\n",
       "      <td>1</td>\n",
       "      <td>60</td>\n",
       "      <td>65.000000</td>\n",
       "      <td>8450</td>\n",
       "      <td>7</td>\n",
       "      <td>5</td>\n",
       "      <td>2003</td>\n",
       "      <td>2003</td>\n",
       "      <td>196.0</td>\n",
       "      <td>706.0</td>\n",
       "      <td>...</td>\n",
       "      <td>0</td>\n",
       "      <td>0</td>\n",
       "      <td>0</td>\n",
       "      <td>1</td>\n",
       "      <td>0</td>\n",
       "      <td>0</td>\n",
       "      <td>0</td>\n",
       "      <td>0</td>\n",
       "      <td>1</td>\n",
       "      <td>0</td>\n",
       "    </tr>\n",
       "    <tr>\n",
       "      <th>1</th>\n",
       "      <td>2</td>\n",
       "      <td>20</td>\n",
       "      <td>80.000000</td>\n",
       "      <td>9600</td>\n",
       "      <td>6</td>\n",
       "      <td>8</td>\n",
       "      <td>1976</td>\n",
       "      <td>1976</td>\n",
       "      <td>0.0</td>\n",
       "      <td>978.0</td>\n",
       "      <td>...</td>\n",
       "      <td>0</td>\n",
       "      <td>0</td>\n",
       "      <td>0</td>\n",
       "      <td>1</td>\n",
       "      <td>0</td>\n",
       "      <td>0</td>\n",
       "      <td>0</td>\n",
       "      <td>0</td>\n",
       "      <td>1</td>\n",
       "      <td>0</td>\n",
       "    </tr>\n",
       "    <tr>\n",
       "      <th>2</th>\n",
       "      <td>3</td>\n",
       "      <td>60</td>\n",
       "      <td>68.000000</td>\n",
       "      <td>11250</td>\n",
       "      <td>7</td>\n",
       "      <td>5</td>\n",
       "      <td>2001</td>\n",
       "      <td>2002</td>\n",
       "      <td>162.0</td>\n",
       "      <td>486.0</td>\n",
       "      <td>...</td>\n",
       "      <td>0</td>\n",
       "      <td>0</td>\n",
       "      <td>0</td>\n",
       "      <td>1</td>\n",
       "      <td>0</td>\n",
       "      <td>0</td>\n",
       "      <td>0</td>\n",
       "      <td>0</td>\n",
       "      <td>1</td>\n",
       "      <td>0</td>\n",
       "    </tr>\n",
       "    <tr>\n",
       "      <th>3</th>\n",
       "      <td>4</td>\n",
       "      <td>70</td>\n",
       "      <td>60.000000</td>\n",
       "      <td>9550</td>\n",
       "      <td>7</td>\n",
       "      <td>5</td>\n",
       "      <td>1915</td>\n",
       "      <td>1970</td>\n",
       "      <td>0.0</td>\n",
       "      <td>216.0</td>\n",
       "      <td>...</td>\n",
       "      <td>0</td>\n",
       "      <td>0</td>\n",
       "      <td>0</td>\n",
       "      <td>1</td>\n",
       "      <td>1</td>\n",
       "      <td>0</td>\n",
       "      <td>0</td>\n",
       "      <td>0</td>\n",
       "      <td>0</td>\n",
       "      <td>0</td>\n",
       "    </tr>\n",
       "    <tr>\n",
       "      <th>4</th>\n",
       "      <td>5</td>\n",
       "      <td>60</td>\n",
       "      <td>84.000000</td>\n",
       "      <td>14260</td>\n",
       "      <td>8</td>\n",
       "      <td>5</td>\n",
       "      <td>2000</td>\n",
       "      <td>2000</td>\n",
       "      <td>350.0</td>\n",
       "      <td>655.0</td>\n",
       "      <td>...</td>\n",
       "      <td>0</td>\n",
       "      <td>0</td>\n",
       "      <td>0</td>\n",
       "      <td>1</td>\n",
       "      <td>0</td>\n",
       "      <td>0</td>\n",
       "      <td>0</td>\n",
       "      <td>0</td>\n",
       "      <td>1</td>\n",
       "      <td>0</td>\n",
       "    </tr>\n",
       "    <tr>\n",
       "      <th>...</th>\n",
       "      <td>...</td>\n",
       "      <td>...</td>\n",
       "      <td>...</td>\n",
       "      <td>...</td>\n",
       "      <td>...</td>\n",
       "      <td>...</td>\n",
       "      <td>...</td>\n",
       "      <td>...</td>\n",
       "      <td>...</td>\n",
       "      <td>...</td>\n",
       "      <td>...</td>\n",
       "      <td>...</td>\n",
       "      <td>...</td>\n",
       "      <td>...</td>\n",
       "      <td>...</td>\n",
       "      <td>...</td>\n",
       "      <td>...</td>\n",
       "      <td>...</td>\n",
       "      <td>...</td>\n",
       "      <td>...</td>\n",
       "      <td>...</td>\n",
       "    </tr>\n",
       "    <tr>\n",
       "      <th>1445</th>\n",
       "      <td>1446</td>\n",
       "      <td>85</td>\n",
       "      <td>70.000000</td>\n",
       "      <td>8400</td>\n",
       "      <td>6</td>\n",
       "      <td>5</td>\n",
       "      <td>1966</td>\n",
       "      <td>1966</td>\n",
       "      <td>0.0</td>\n",
       "      <td>187.0</td>\n",
       "      <td>...</td>\n",
       "      <td>0</td>\n",
       "      <td>0</td>\n",
       "      <td>0</td>\n",
       "      <td>1</td>\n",
       "      <td>0</td>\n",
       "      <td>0</td>\n",
       "      <td>0</td>\n",
       "      <td>0</td>\n",
       "      <td>1</td>\n",
       "      <td>0</td>\n",
       "    </tr>\n",
       "    <tr>\n",
       "      <th>1446</th>\n",
       "      <td>1447</td>\n",
       "      <td>20</td>\n",
       "      <td>70.049958</td>\n",
       "      <td>26142</td>\n",
       "      <td>5</td>\n",
       "      <td>7</td>\n",
       "      <td>1962</td>\n",
       "      <td>1962</td>\n",
       "      <td>189.0</td>\n",
       "      <td>593.0</td>\n",
       "      <td>...</td>\n",
       "      <td>0</td>\n",
       "      <td>0</td>\n",
       "      <td>0</td>\n",
       "      <td>1</td>\n",
       "      <td>0</td>\n",
       "      <td>0</td>\n",
       "      <td>0</td>\n",
       "      <td>0</td>\n",
       "      <td>1</td>\n",
       "      <td>0</td>\n",
       "    </tr>\n",
       "    <tr>\n",
       "      <th>1447</th>\n",
       "      <td>1448</td>\n",
       "      <td>60</td>\n",
       "      <td>80.000000</td>\n",
       "      <td>10000</td>\n",
       "      <td>8</td>\n",
       "      <td>5</td>\n",
       "      <td>1995</td>\n",
       "      <td>1996</td>\n",
       "      <td>438.0</td>\n",
       "      <td>1079.0</td>\n",
       "      <td>...</td>\n",
       "      <td>0</td>\n",
       "      <td>0</td>\n",
       "      <td>0</td>\n",
       "      <td>1</td>\n",
       "      <td>0</td>\n",
       "      <td>0</td>\n",
       "      <td>0</td>\n",
       "      <td>0</td>\n",
       "      <td>1</td>\n",
       "      <td>0</td>\n",
       "    </tr>\n",
       "    <tr>\n",
       "      <th>1448</th>\n",
       "      <td>1449</td>\n",
       "      <td>50</td>\n",
       "      <td>70.000000</td>\n",
       "      <td>11767</td>\n",
       "      <td>4</td>\n",
       "      <td>7</td>\n",
       "      <td>1910</td>\n",
       "      <td>2000</td>\n",
       "      <td>0.0</td>\n",
       "      <td>0.0</td>\n",
       "      <td>...</td>\n",
       "      <td>0</td>\n",
       "      <td>0</td>\n",
       "      <td>0</td>\n",
       "      <td>1</td>\n",
       "      <td>0</td>\n",
       "      <td>0</td>\n",
       "      <td>0</td>\n",
       "      <td>0</td>\n",
       "      <td>1</td>\n",
       "      <td>0</td>\n",
       "    </tr>\n",
       "    <tr>\n",
       "      <th>1449</th>\n",
       "      <td>1450</td>\n",
       "      <td>180</td>\n",
       "      <td>21.000000</td>\n",
       "      <td>1533</td>\n",
       "      <td>5</td>\n",
       "      <td>7</td>\n",
       "      <td>1970</td>\n",
       "      <td>1970</td>\n",
       "      <td>0.0</td>\n",
       "      <td>553.0</td>\n",
       "      <td>...</td>\n",
       "      <td>0</td>\n",
       "      <td>0</td>\n",
       "      <td>0</td>\n",
       "      <td>1</td>\n",
       "      <td>1</td>\n",
       "      <td>0</td>\n",
       "      <td>0</td>\n",
       "      <td>0</td>\n",
       "      <td>0</td>\n",
       "      <td>0</td>\n",
       "    </tr>\n",
       "  </tbody>\n",
       "</table>\n",
       "<p>1441 rows × 277 columns</p>\n",
       "</div>"
      ],
      "text/plain": [
       "        Id  MSSubClass  LotFrontage  LotArea  OverallQual  OverallCond  \\\n",
       "0        1          60    65.000000     8450            7            5   \n",
       "1        2          20    80.000000     9600            6            8   \n",
       "2        3          60    68.000000    11250            7            5   \n",
       "3        4          70    60.000000     9550            7            5   \n",
       "4        5          60    84.000000    14260            8            5   \n",
       "...    ...         ...          ...      ...          ...          ...   \n",
       "1445  1446          85    70.000000     8400            6            5   \n",
       "1446  1447          20    70.049958    26142            5            7   \n",
       "1447  1448          60    80.000000    10000            8            5   \n",
       "1448  1449          50    70.000000    11767            4            7   \n",
       "1449  1450         180    21.000000     1533            5            7   \n",
       "\n",
       "      YearBuilt  YearRemodAdd  MasVnrArea  BsmtFinSF1  ...  SaleType_ConLw  \\\n",
       "0          2003          2003       196.0       706.0  ...               0   \n",
       "1          1976          1976         0.0       978.0  ...               0   \n",
       "2          2001          2002       162.0       486.0  ...               0   \n",
       "3          1915          1970         0.0       216.0  ...               0   \n",
       "4          2000          2000       350.0       655.0  ...               0   \n",
       "...         ...           ...         ...         ...  ...             ...   \n",
       "1445       1966          1966         0.0       187.0  ...               0   \n",
       "1446       1962          1962       189.0       593.0  ...               0   \n",
       "1447       1995          1996       438.0      1079.0  ...               0   \n",
       "1448       1910          2000         0.0         0.0  ...               0   \n",
       "1449       1970          1970         0.0       553.0  ...               0   \n",
       "\n",
       "      SaleType_New  SaleType_Oth  SaleType_WD  SaleCondition_Abnorml  \\\n",
       "0                0             0            1                      0   \n",
       "1                0             0            1                      0   \n",
       "2                0             0            1                      0   \n",
       "3                0             0            1                      1   \n",
       "4                0             0            1                      0   \n",
       "...            ...           ...          ...                    ...   \n",
       "1445             0             0            1                      0   \n",
       "1446             0             0            1                      0   \n",
       "1447             0             0            1                      0   \n",
       "1448             0             0            1                      0   \n",
       "1449             0             0            1                      1   \n",
       "\n",
       "      SaleCondition_AdjLand  SaleCondition_Alloca  SaleCondition_Family  \\\n",
       "0                         0                     0                     0   \n",
       "1                         0                     0                     0   \n",
       "2                         0                     0                     0   \n",
       "3                         0                     0                     0   \n",
       "4                         0                     0                     0   \n",
       "...                     ...                   ...                   ...   \n",
       "1445                      0                     0                     0   \n",
       "1446                      0                     0                     0   \n",
       "1447                      0                     0                     0   \n",
       "1448                      0                     0                     0   \n",
       "1449                      0                     0                     0   \n",
       "\n",
       "      SaleCondition_Normal  SaleCondition_Partial  \n",
       "0                        1                      0  \n",
       "1                        1                      0  \n",
       "2                        1                      0  \n",
       "3                        0                      0  \n",
       "4                        1                      0  \n",
       "...                    ...                    ...  \n",
       "1445                     1                      0  \n",
       "1446                     1                      0  \n",
       "1447                     1                      0  \n",
       "1448                     1                      0  \n",
       "1449                     0                      0  \n",
       "\n",
       "[1441 rows x 277 columns]"
      ]
     },
     "execution_count": 140,
     "metadata": {},
     "output_type": "execute_result"
    }
   ],
   "source": [
    "train_df"
   ]
  },
  {
   "cell_type": "code",
   "execution_count": 141,
   "id": "038db077",
   "metadata": {},
   "outputs": [
    {
     "data": {
      "text/html": [
       "<div>\n",
       "<style scoped>\n",
       "    .dataframe tbody tr th:only-of-type {\n",
       "        vertical-align: middle;\n",
       "    }\n",
       "\n",
       "    .dataframe tbody tr th {\n",
       "        vertical-align: top;\n",
       "    }\n",
       "\n",
       "    .dataframe thead th {\n",
       "        text-align: right;\n",
       "    }\n",
       "</style>\n",
       "<table border=\"1\" class=\"dataframe\">\n",
       "  <thead>\n",
       "    <tr style=\"text-align: right;\">\n",
       "      <th></th>\n",
       "      <th>Id</th>\n",
       "      <th>MSSubClass</th>\n",
       "      <th>LotFrontage</th>\n",
       "      <th>LotArea</th>\n",
       "      <th>OverallQual</th>\n",
       "      <th>OverallCond</th>\n",
       "      <th>YearBuilt</th>\n",
       "      <th>YearRemodAdd</th>\n",
       "      <th>MasVnrArea</th>\n",
       "      <th>BsmtFinSF1</th>\n",
       "      <th>...</th>\n",
       "      <th>SaleType_ConLw</th>\n",
       "      <th>SaleType_New</th>\n",
       "      <th>SaleType_Oth</th>\n",
       "      <th>SaleType_WD</th>\n",
       "      <th>SaleCondition_Abnorml</th>\n",
       "      <th>SaleCondition_AdjLand</th>\n",
       "      <th>SaleCondition_Alloca</th>\n",
       "      <th>SaleCondition_Family</th>\n",
       "      <th>SaleCondition_Normal</th>\n",
       "      <th>SaleCondition_Partial</th>\n",
       "    </tr>\n",
       "  </thead>\n",
       "  <tbody>\n",
       "    <tr>\n",
       "      <th>1450</th>\n",
       "      <td>1451</td>\n",
       "      <td>90</td>\n",
       "      <td>60.0</td>\n",
       "      <td>9000</td>\n",
       "      <td>5</td>\n",
       "      <td>5</td>\n",
       "      <td>1974</td>\n",
       "      <td>1974</td>\n",
       "      <td>0.0</td>\n",
       "      <td>0.0</td>\n",
       "      <td>...</td>\n",
       "      <td>0</td>\n",
       "      <td>0</td>\n",
       "      <td>0</td>\n",
       "      <td>1</td>\n",
       "      <td>0</td>\n",
       "      <td>0</td>\n",
       "      <td>0</td>\n",
       "      <td>0</td>\n",
       "      <td>1</td>\n",
       "      <td>0</td>\n",
       "    </tr>\n",
       "    <tr>\n",
       "      <th>1451</th>\n",
       "      <td>1452</td>\n",
       "      <td>20</td>\n",
       "      <td>78.0</td>\n",
       "      <td>9262</td>\n",
       "      <td>8</td>\n",
       "      <td>5</td>\n",
       "      <td>2008</td>\n",
       "      <td>2009</td>\n",
       "      <td>194.0</td>\n",
       "      <td>0.0</td>\n",
       "      <td>...</td>\n",
       "      <td>0</td>\n",
       "      <td>1</td>\n",
       "      <td>0</td>\n",
       "      <td>0</td>\n",
       "      <td>0</td>\n",
       "      <td>0</td>\n",
       "      <td>0</td>\n",
       "      <td>0</td>\n",
       "      <td>0</td>\n",
       "      <td>1</td>\n",
       "    </tr>\n",
       "    <tr>\n",
       "      <th>1452</th>\n",
       "      <td>1453</td>\n",
       "      <td>180</td>\n",
       "      <td>35.0</td>\n",
       "      <td>3675</td>\n",
       "      <td>5</td>\n",
       "      <td>5</td>\n",
       "      <td>2005</td>\n",
       "      <td>2005</td>\n",
       "      <td>80.0</td>\n",
       "      <td>547.0</td>\n",
       "      <td>...</td>\n",
       "      <td>0</td>\n",
       "      <td>0</td>\n",
       "      <td>0</td>\n",
       "      <td>1</td>\n",
       "      <td>0</td>\n",
       "      <td>0</td>\n",
       "      <td>0</td>\n",
       "      <td>0</td>\n",
       "      <td>1</td>\n",
       "      <td>0</td>\n",
       "    </tr>\n",
       "    <tr>\n",
       "      <th>1453</th>\n",
       "      <td>1454</td>\n",
       "      <td>20</td>\n",
       "      <td>90.0</td>\n",
       "      <td>17217</td>\n",
       "      <td>5</td>\n",
       "      <td>5</td>\n",
       "      <td>2006</td>\n",
       "      <td>2006</td>\n",
       "      <td>0.0</td>\n",
       "      <td>0.0</td>\n",
       "      <td>...</td>\n",
       "      <td>0</td>\n",
       "      <td>0</td>\n",
       "      <td>0</td>\n",
       "      <td>1</td>\n",
       "      <td>1</td>\n",
       "      <td>0</td>\n",
       "      <td>0</td>\n",
       "      <td>0</td>\n",
       "      <td>0</td>\n",
       "      <td>0</td>\n",
       "    </tr>\n",
       "    <tr>\n",
       "      <th>1454</th>\n",
       "      <td>1455</td>\n",
       "      <td>20</td>\n",
       "      <td>62.0</td>\n",
       "      <td>7500</td>\n",
       "      <td>7</td>\n",
       "      <td>5</td>\n",
       "      <td>2004</td>\n",
       "      <td>2005</td>\n",
       "      <td>0.0</td>\n",
       "      <td>410.0</td>\n",
       "      <td>...</td>\n",
       "      <td>0</td>\n",
       "      <td>0</td>\n",
       "      <td>0</td>\n",
       "      <td>1</td>\n",
       "      <td>0</td>\n",
       "      <td>0</td>\n",
       "      <td>0</td>\n",
       "      <td>0</td>\n",
       "      <td>1</td>\n",
       "      <td>0</td>\n",
       "    </tr>\n",
       "    <tr>\n",
       "      <th>...</th>\n",
       "      <td>...</td>\n",
       "      <td>...</td>\n",
       "      <td>...</td>\n",
       "      <td>...</td>\n",
       "      <td>...</td>\n",
       "      <td>...</td>\n",
       "      <td>...</td>\n",
       "      <td>...</td>\n",
       "      <td>...</td>\n",
       "      <td>...</td>\n",
       "      <td>...</td>\n",
       "      <td>...</td>\n",
       "      <td>...</td>\n",
       "      <td>...</td>\n",
       "      <td>...</td>\n",
       "      <td>...</td>\n",
       "      <td>...</td>\n",
       "      <td>...</td>\n",
       "      <td>...</td>\n",
       "      <td>...</td>\n",
       "      <td>...</td>\n",
       "    </tr>\n",
       "    <tr>\n",
       "      <th>1454</th>\n",
       "      <td>2915</td>\n",
       "      <td>160</td>\n",
       "      <td>21.0</td>\n",
       "      <td>1936</td>\n",
       "      <td>4</td>\n",
       "      <td>7</td>\n",
       "      <td>1970</td>\n",
       "      <td>1970</td>\n",
       "      <td>0.0</td>\n",
       "      <td>0.0</td>\n",
       "      <td>...</td>\n",
       "      <td>0</td>\n",
       "      <td>0</td>\n",
       "      <td>0</td>\n",
       "      <td>1</td>\n",
       "      <td>0</td>\n",
       "      <td>0</td>\n",
       "      <td>0</td>\n",
       "      <td>0</td>\n",
       "      <td>1</td>\n",
       "      <td>0</td>\n",
       "    </tr>\n",
       "    <tr>\n",
       "      <th>1455</th>\n",
       "      <td>2916</td>\n",
       "      <td>160</td>\n",
       "      <td>21.0</td>\n",
       "      <td>1894</td>\n",
       "      <td>4</td>\n",
       "      <td>5</td>\n",
       "      <td>1970</td>\n",
       "      <td>1970</td>\n",
       "      <td>0.0</td>\n",
       "      <td>252.0</td>\n",
       "      <td>...</td>\n",
       "      <td>0</td>\n",
       "      <td>0</td>\n",
       "      <td>0</td>\n",
       "      <td>1</td>\n",
       "      <td>1</td>\n",
       "      <td>0</td>\n",
       "      <td>0</td>\n",
       "      <td>0</td>\n",
       "      <td>0</td>\n",
       "      <td>0</td>\n",
       "    </tr>\n",
       "    <tr>\n",
       "      <th>1456</th>\n",
       "      <td>2917</td>\n",
       "      <td>20</td>\n",
       "      <td>160.0</td>\n",
       "      <td>20000</td>\n",
       "      <td>5</td>\n",
       "      <td>7</td>\n",
       "      <td>1960</td>\n",
       "      <td>1996</td>\n",
       "      <td>0.0</td>\n",
       "      <td>1224.0</td>\n",
       "      <td>...</td>\n",
       "      <td>0</td>\n",
       "      <td>0</td>\n",
       "      <td>0</td>\n",
       "      <td>1</td>\n",
       "      <td>1</td>\n",
       "      <td>0</td>\n",
       "      <td>0</td>\n",
       "      <td>0</td>\n",
       "      <td>0</td>\n",
       "      <td>0</td>\n",
       "    </tr>\n",
       "    <tr>\n",
       "      <th>1457</th>\n",
       "      <td>2918</td>\n",
       "      <td>85</td>\n",
       "      <td>62.0</td>\n",
       "      <td>10441</td>\n",
       "      <td>5</td>\n",
       "      <td>5</td>\n",
       "      <td>1992</td>\n",
       "      <td>1992</td>\n",
       "      <td>0.0</td>\n",
       "      <td>337.0</td>\n",
       "      <td>...</td>\n",
       "      <td>0</td>\n",
       "      <td>0</td>\n",
       "      <td>0</td>\n",
       "      <td>1</td>\n",
       "      <td>0</td>\n",
       "      <td>0</td>\n",
       "      <td>0</td>\n",
       "      <td>0</td>\n",
       "      <td>1</td>\n",
       "      <td>0</td>\n",
       "    </tr>\n",
       "    <tr>\n",
       "      <th>1458</th>\n",
       "      <td>2919</td>\n",
       "      <td>60</td>\n",
       "      <td>74.0</td>\n",
       "      <td>9627</td>\n",
       "      <td>7</td>\n",
       "      <td>5</td>\n",
       "      <td>1993</td>\n",
       "      <td>1994</td>\n",
       "      <td>94.0</td>\n",
       "      <td>758.0</td>\n",
       "      <td>...</td>\n",
       "      <td>0</td>\n",
       "      <td>0</td>\n",
       "      <td>0</td>\n",
       "      <td>1</td>\n",
       "      <td>0</td>\n",
       "      <td>0</td>\n",
       "      <td>0</td>\n",
       "      <td>0</td>\n",
       "      <td>1</td>\n",
       "      <td>0</td>\n",
       "    </tr>\n",
       "  </tbody>\n",
       "</table>\n",
       "<p>1441 rows × 277 columns</p>\n",
       "</div>"
      ],
      "text/plain": [
       "        Id  MSSubClass  LotFrontage  LotArea  OverallQual  OverallCond  \\\n",
       "1450  1451          90         60.0     9000            5            5   \n",
       "1451  1452          20         78.0     9262            8            5   \n",
       "1452  1453         180         35.0     3675            5            5   \n",
       "1453  1454          20         90.0    17217            5            5   \n",
       "1454  1455          20         62.0     7500            7            5   \n",
       "...    ...         ...          ...      ...          ...          ...   \n",
       "1454  2915         160         21.0     1936            4            7   \n",
       "1455  2916         160         21.0     1894            4            5   \n",
       "1456  2917          20        160.0    20000            5            7   \n",
       "1457  2918          85         62.0    10441            5            5   \n",
       "1458  2919          60         74.0     9627            7            5   \n",
       "\n",
       "      YearBuilt  YearRemodAdd  MasVnrArea  BsmtFinSF1  ...  SaleType_ConLw  \\\n",
       "1450       1974          1974         0.0         0.0  ...               0   \n",
       "1451       2008          2009       194.0         0.0  ...               0   \n",
       "1452       2005          2005        80.0       547.0  ...               0   \n",
       "1453       2006          2006         0.0         0.0  ...               0   \n",
       "1454       2004          2005         0.0       410.0  ...               0   \n",
       "...         ...           ...         ...         ...  ...             ...   \n",
       "1454       1970          1970         0.0         0.0  ...               0   \n",
       "1455       1970          1970         0.0       252.0  ...               0   \n",
       "1456       1960          1996         0.0      1224.0  ...               0   \n",
       "1457       1992          1992         0.0       337.0  ...               0   \n",
       "1458       1993          1994        94.0       758.0  ...               0   \n",
       "\n",
       "      SaleType_New  SaleType_Oth  SaleType_WD  SaleCondition_Abnorml  \\\n",
       "1450             0             0            1                      0   \n",
       "1451             1             0            0                      0   \n",
       "1452             0             0            1                      0   \n",
       "1453             0             0            1                      1   \n",
       "1454             0             0            1                      0   \n",
       "...            ...           ...          ...                    ...   \n",
       "1454             0             0            1                      0   \n",
       "1455             0             0            1                      1   \n",
       "1456             0             0            1                      1   \n",
       "1457             0             0            1                      0   \n",
       "1458             0             0            1                      0   \n",
       "\n",
       "      SaleCondition_AdjLand  SaleCondition_Alloca  SaleCondition_Family  \\\n",
       "1450                      0                     0                     0   \n",
       "1451                      0                     0                     0   \n",
       "1452                      0                     0                     0   \n",
       "1453                      0                     0                     0   \n",
       "1454                      0                     0                     0   \n",
       "...                     ...                   ...                   ...   \n",
       "1454                      0                     0                     0   \n",
       "1455                      0                     0                     0   \n",
       "1456                      0                     0                     0   \n",
       "1457                      0                     0                     0   \n",
       "1458                      0                     0                     0   \n",
       "\n",
       "      SaleCondition_Normal  SaleCondition_Partial  \n",
       "1450                     1                      0  \n",
       "1451                     0                      1  \n",
       "1452                     1                      0  \n",
       "1453                     0                      0  \n",
       "1454                     1                      0  \n",
       "...                    ...                    ...  \n",
       "1454                     1                      0  \n",
       "1455                     0                      0  \n",
       "1456                     0                      0  \n",
       "1457                     1                      0  \n",
       "1458                     1                      0  \n",
       "\n",
       "[1441 rows x 277 columns]"
      ]
     },
     "execution_count": 141,
     "metadata": {},
     "output_type": "execute_result"
    }
   ],
   "source": [
    "test_df"
   ]
  },
  {
   "cell_type": "code",
   "execution_count": 142,
   "id": "1d765454",
   "metadata": {},
   "outputs": [],
   "source": [
    "train_x=train_df.drop(['SalePrice'],axis=1)\n",
    "train_y=train_df['SalePrice']"
   ]
  },
  {
   "cell_type": "code",
   "execution_count": 143,
   "id": "785a54aa",
   "metadata": {},
   "outputs": [
    {
     "data": {
      "text/plain": [
       "(1441,)"
      ]
     },
     "execution_count": 143,
     "metadata": {},
     "output_type": "execute_result"
    }
   ],
   "source": [
    "train_y.shape"
   ]
  },
  {
   "cell_type": "code",
   "execution_count": 144,
   "id": "ccae7c09",
   "metadata": {},
   "outputs": [],
   "source": [
    "import xgboost\n",
    "classifier=xgboost.XGBRegressor()"
   ]
  },
  {
   "cell_type": "code",
   "execution_count": 145,
   "id": "0c36af7c",
   "metadata": {},
   "outputs": [],
   "source": [
    "import xgboost\n",
    "regressor=xgboost.XGBRegressor()\n"
   ]
  },
  {
   "cell_type": "code",
   "execution_count": 146,
   "id": "0ccd279d",
   "metadata": {},
   "outputs": [],
   "source": [
    "from sklearn.model_selection import RandomizedSearchCV,GridSearchCV"
   ]
  },
  {
   "cell_type": "code",
   "execution_count": 147,
   "id": "a087e166",
   "metadata": {},
   "outputs": [],
   "source": [
    "booster=['gbtree','gblinear']\n",
    "base_score=[0.25,0.5,0.75,1]"
   ]
  },
  {
   "cell_type": "code",
   "execution_count": 148,
   "id": "3b8f6651",
   "metadata": {},
   "outputs": [],
   "source": [
    "## Hyper Parameter Optimization\n",
    "n_estimators = [100, 500, 900, 1100, 1500]\n",
    "max_depth = [2, 3, 5, 10, 15]\n",
    "booster=['gbtree','gblinear']\n",
    "learning_rate=[0.05,0.1,0.15,0.20]\n",
    "min_child_weight=[1,2,3,4]\n",
    "\n",
    "# Define the grid of hyperparameters to search\n",
    "hyperparameter_grid = {\n",
    "    'n_estimators': n_estimators,\n",
    "    'max_depth':max_depth,\n",
    "    'learning_rate':learning_rate,\n",
    "    'min_child_weight':min_child_weight,\n",
    "    'booster':booster,\n",
    "    'base_score':base_score\n",
    "    }"
   ]
  },
  {
   "cell_type": "code",
   "execution_count": 149,
   "id": "fdd9d452",
   "metadata": {},
   "outputs": [],
   "source": [
    "random_cv = RandomizedSearchCV(estimator=regressor,\n",
    "            param_distributions=hyperparameter_grid,\n",
    "            cv=5, n_iter=50,\n",
    "            scoring = 'neg_mean_absolute_error',n_jobs = 4,\n",
    "            verbose = 5, \n",
    "            return_train_score = True,\n",
    "            random_state=42)"
   ]
  },
  {
   "cell_type": "code",
   "execution_count": 150,
   "id": "ce8ee5f0",
   "metadata": {},
   "outputs": [
    {
     "name": "stdout",
     "output_type": "stream",
     "text": [
      "Fitting 5 folds for each of 50 candidates, totalling 250 fits\n"
     ]
    },
    {
     "data": {
      "text/plain": [
       "RandomizedSearchCV(cv=5,\n",
       "                   estimator=XGBRegressor(base_score=None, booster=None,\n",
       "                                          callbacks=None,\n",
       "                                          colsample_bylevel=None,\n",
       "                                          colsample_bynode=None,\n",
       "                                          colsample_bytree=None,\n",
       "                                          early_stopping_rounds=None,\n",
       "                                          enable_categorical=False,\n",
       "                                          eval_metric=None, gamma=None,\n",
       "                                          gpu_id=None, grow_policy=None,\n",
       "                                          importance_type=None,\n",
       "                                          interaction_constraints=None,\n",
       "                                          learning_rate=None, max_bin=None,\n",
       "                                          m...\n",
       "                                          reg_alpha=None, reg_lambda=None, ...),\n",
       "                   n_iter=50, n_jobs=4,\n",
       "                   param_distributions={'base_score': [0.25, 0.5, 0.75, 1],\n",
       "                                        'booster': ['gbtree', 'gblinear'],\n",
       "                                        'learning_rate': [0.05, 0.1, 0.15, 0.2],\n",
       "                                        'max_depth': [2, 3, 5, 10, 15],\n",
       "                                        'min_child_weight': [1, 2, 3, 4],\n",
       "                                        'n_estimators': [100, 500, 900, 1100,\n",
       "                                                         1500]},\n",
       "                   random_state=42, return_train_score=True,\n",
       "                   scoring='neg_mean_absolute_error', verbose=5)"
      ]
     },
     "execution_count": 150,
     "metadata": {},
     "output_type": "execute_result"
    }
   ],
   "source": [
    "random_cv.fit(train_x,train_y)"
   ]
  },
  {
   "cell_type": "code",
   "execution_count": 151,
   "id": "130279e3",
   "metadata": {},
   "outputs": [
    {
     "data": {
      "text/plain": [
       "XGBRegressor(base_score=0.25, booster='gbtree', callbacks=None,\n",
       "             colsample_bylevel=1, colsample_bynode=1, colsample_bytree=1,\n",
       "             early_stopping_rounds=None, enable_categorical=False,\n",
       "             eval_metric=None, gamma=0, gpu_id=-1, grow_policy='depthwise',\n",
       "             importance_type=None, interaction_constraints='',\n",
       "             learning_rate=0.1, max_bin=256, max_cat_to_onehot=4,\n",
       "             max_delta_step=0, max_depth=2, max_leaves=0, min_child_weight=1,\n",
       "             missing=nan, monotone_constraints='()', n_estimators=900, n_jobs=0,\n",
       "             num_parallel_tree=1, predictor='auto', random_state=0, reg_alpha=0,\n",
       "             reg_lambda=1, ...)"
      ]
     },
     "execution_count": 151,
     "metadata": {},
     "output_type": "execute_result"
    }
   ],
   "source": [
    "random_cv.best_estimator_"
   ]
  },
  {
   "cell_type": "code",
   "execution_count": 152,
   "id": "c20c9ebb",
   "metadata": {},
   "outputs": [
    {
     "name": "stdout",
     "output_type": "stream",
     "text": [
      "{'n_estimators': 900, 'min_child_weight': 1, 'max_depth': 2, 'learning_rate': 0.1, 'booster': 'gbtree', 'base_score': 0.25}\n"
     ]
    }
   ],
   "source": [
    "params=random_cv.best_params_\n",
    "print(params)"
   ]
  },
  {
   "cell_type": "code",
   "execution_count": 153,
   "id": "00b125f1",
   "metadata": {},
   "outputs": [],
   "source": [
    "regressor=xgboost.XGBRegressor(n_estimators= 900, \n",
    "                               min_child_weight= 1, max_depth= 2,\n",
    "                               learning_rate= 0.1,\n",
    "                               booster= 'gbtree', \n",
    "                               base_score= 0.25)"
   ]
  },
  {
   "cell_type": "code",
   "execution_count": 154,
   "id": "17450985",
   "metadata": {},
   "outputs": [
    {
     "data": {
      "text/plain": [
       "XGBRegressor(base_score=0.25, booster='gbtree', callbacks=None,\n",
       "             colsample_bylevel=1, colsample_bynode=1, colsample_bytree=1,\n",
       "             early_stopping_rounds=None, enable_categorical=False,\n",
       "             eval_metric=None, gamma=0, gpu_id=-1, grow_policy='depthwise',\n",
       "             importance_type=None, interaction_constraints='',\n",
       "             learning_rate=0.1, max_bin=256, max_cat_to_onehot=4,\n",
       "             max_delta_step=0, max_depth=2, max_leaves=0, min_child_weight=1,\n",
       "             missing=nan, monotone_constraints='()', n_estimators=900, n_jobs=0,\n",
       "             num_parallel_tree=1, predictor='auto', random_state=0, reg_alpha=0,\n",
       "             reg_lambda=1, ...)"
      ]
     },
     "execution_count": 154,
     "metadata": {},
     "output_type": "execute_result"
    }
   ],
   "source": [
    "regressor.fit(train_x,train_y)"
   ]
  },
  {
   "cell_type": "code",
   "execution_count": 155,
   "id": "ff79974c",
   "metadata": {},
   "outputs": [
    {
     "data": {
      "text/html": [
       "<div>\n",
       "<style scoped>\n",
       "    .dataframe tbody tr th:only-of-type {\n",
       "        vertical-align: middle;\n",
       "    }\n",
       "\n",
       "    .dataframe tbody tr th {\n",
       "        vertical-align: top;\n",
       "    }\n",
       "\n",
       "    .dataframe thead th {\n",
       "        text-align: right;\n",
       "    }\n",
       "</style>\n",
       "<table border=\"1\" class=\"dataframe\">\n",
       "  <thead>\n",
       "    <tr style=\"text-align: right;\">\n",
       "      <th></th>\n",
       "      <th>Id</th>\n",
       "      <th>MSSubClass</th>\n",
       "      <th>LotFrontage</th>\n",
       "      <th>LotArea</th>\n",
       "      <th>OverallQual</th>\n",
       "      <th>OverallCond</th>\n",
       "      <th>YearBuilt</th>\n",
       "      <th>YearRemodAdd</th>\n",
       "      <th>MasVnrArea</th>\n",
       "      <th>BsmtFinSF1</th>\n",
       "      <th>...</th>\n",
       "      <th>SaleType_ConLw</th>\n",
       "      <th>SaleType_New</th>\n",
       "      <th>SaleType_Oth</th>\n",
       "      <th>SaleType_WD</th>\n",
       "      <th>SaleCondition_Abnorml</th>\n",
       "      <th>SaleCondition_AdjLand</th>\n",
       "      <th>SaleCondition_Alloca</th>\n",
       "      <th>SaleCondition_Family</th>\n",
       "      <th>SaleCondition_Normal</th>\n",
       "      <th>SaleCondition_Partial</th>\n",
       "    </tr>\n",
       "  </thead>\n",
       "  <tbody>\n",
       "    <tr>\n",
       "      <th>1450</th>\n",
       "      <td>1451</td>\n",
       "      <td>90</td>\n",
       "      <td>60.0</td>\n",
       "      <td>9000</td>\n",
       "      <td>5</td>\n",
       "      <td>5</td>\n",
       "      <td>1974</td>\n",
       "      <td>1974</td>\n",
       "      <td>0.0</td>\n",
       "      <td>0.0</td>\n",
       "      <td>...</td>\n",
       "      <td>0</td>\n",
       "      <td>0</td>\n",
       "      <td>0</td>\n",
       "      <td>1</td>\n",
       "      <td>0</td>\n",
       "      <td>0</td>\n",
       "      <td>0</td>\n",
       "      <td>0</td>\n",
       "      <td>1</td>\n",
       "      <td>0</td>\n",
       "    </tr>\n",
       "    <tr>\n",
       "      <th>1451</th>\n",
       "      <td>1452</td>\n",
       "      <td>20</td>\n",
       "      <td>78.0</td>\n",
       "      <td>9262</td>\n",
       "      <td>8</td>\n",
       "      <td>5</td>\n",
       "      <td>2008</td>\n",
       "      <td>2009</td>\n",
       "      <td>194.0</td>\n",
       "      <td>0.0</td>\n",
       "      <td>...</td>\n",
       "      <td>0</td>\n",
       "      <td>1</td>\n",
       "      <td>0</td>\n",
       "      <td>0</td>\n",
       "      <td>0</td>\n",
       "      <td>0</td>\n",
       "      <td>0</td>\n",
       "      <td>0</td>\n",
       "      <td>0</td>\n",
       "      <td>1</td>\n",
       "    </tr>\n",
       "    <tr>\n",
       "      <th>1452</th>\n",
       "      <td>1453</td>\n",
       "      <td>180</td>\n",
       "      <td>35.0</td>\n",
       "      <td>3675</td>\n",
       "      <td>5</td>\n",
       "      <td>5</td>\n",
       "      <td>2005</td>\n",
       "      <td>2005</td>\n",
       "      <td>80.0</td>\n",
       "      <td>547.0</td>\n",
       "      <td>...</td>\n",
       "      <td>0</td>\n",
       "      <td>0</td>\n",
       "      <td>0</td>\n",
       "      <td>1</td>\n",
       "      <td>0</td>\n",
       "      <td>0</td>\n",
       "      <td>0</td>\n",
       "      <td>0</td>\n",
       "      <td>1</td>\n",
       "      <td>0</td>\n",
       "    </tr>\n",
       "    <tr>\n",
       "      <th>1453</th>\n",
       "      <td>1454</td>\n",
       "      <td>20</td>\n",
       "      <td>90.0</td>\n",
       "      <td>17217</td>\n",
       "      <td>5</td>\n",
       "      <td>5</td>\n",
       "      <td>2006</td>\n",
       "      <td>2006</td>\n",
       "      <td>0.0</td>\n",
       "      <td>0.0</td>\n",
       "      <td>...</td>\n",
       "      <td>0</td>\n",
       "      <td>0</td>\n",
       "      <td>0</td>\n",
       "      <td>1</td>\n",
       "      <td>1</td>\n",
       "      <td>0</td>\n",
       "      <td>0</td>\n",
       "      <td>0</td>\n",
       "      <td>0</td>\n",
       "      <td>0</td>\n",
       "    </tr>\n",
       "    <tr>\n",
       "      <th>1454</th>\n",
       "      <td>1455</td>\n",
       "      <td>20</td>\n",
       "      <td>62.0</td>\n",
       "      <td>7500</td>\n",
       "      <td>7</td>\n",
       "      <td>5</td>\n",
       "      <td>2004</td>\n",
       "      <td>2005</td>\n",
       "      <td>0.0</td>\n",
       "      <td>410.0</td>\n",
       "      <td>...</td>\n",
       "      <td>0</td>\n",
       "      <td>0</td>\n",
       "      <td>0</td>\n",
       "      <td>1</td>\n",
       "      <td>0</td>\n",
       "      <td>0</td>\n",
       "      <td>0</td>\n",
       "      <td>0</td>\n",
       "      <td>1</td>\n",
       "      <td>0</td>\n",
       "    </tr>\n",
       "  </tbody>\n",
       "</table>\n",
       "<p>5 rows × 276 columns</p>\n",
       "</div>"
      ],
      "text/plain": [
       "        Id  MSSubClass  LotFrontage  LotArea  OverallQual  OverallCond  \\\n",
       "1450  1451          90         60.0     9000            5            5   \n",
       "1451  1452          20         78.0     9262            8            5   \n",
       "1452  1453         180         35.0     3675            5            5   \n",
       "1453  1454          20         90.0    17217            5            5   \n",
       "1454  1455          20         62.0     7500            7            5   \n",
       "\n",
       "      YearBuilt  YearRemodAdd  MasVnrArea  BsmtFinSF1  ...  SaleType_ConLw  \\\n",
       "1450       1974          1974         0.0         0.0  ...               0   \n",
       "1451       2008          2009       194.0         0.0  ...               0   \n",
       "1452       2005          2005        80.0       547.0  ...               0   \n",
       "1453       2006          2006         0.0         0.0  ...               0   \n",
       "1454       2004          2005         0.0       410.0  ...               0   \n",
       "\n",
       "      SaleType_New  SaleType_Oth  SaleType_WD  SaleCondition_Abnorml  \\\n",
       "1450             0             0            1                      0   \n",
       "1451             1             0            0                      0   \n",
       "1452             0             0            1                      0   \n",
       "1453             0             0            1                      1   \n",
       "1454             0             0            1                      0   \n",
       "\n",
       "      SaleCondition_AdjLand  SaleCondition_Alloca  SaleCondition_Family  \\\n",
       "1450                      0                     0                     0   \n",
       "1451                      0                     0                     0   \n",
       "1452                      0                     0                     0   \n",
       "1453                      0                     0                     0   \n",
       "1454                      0                     0                     0   \n",
       "\n",
       "      SaleCondition_Normal  SaleCondition_Partial  \n",
       "1450                     1                      0  \n",
       "1451                     0                      1  \n",
       "1452                     1                      0  \n",
       "1453                     0                      0  \n",
       "1454                     1                      0  \n",
       "\n",
       "[5 rows x 276 columns]"
      ]
     },
     "execution_count": 155,
     "metadata": {},
     "output_type": "execute_result"
    }
   ],
   "source": [
    "test_df.drop(['SalePrice'],axis=1).head()"
   ]
  },
  {
   "cell_type": "code",
   "execution_count": 156,
   "id": "4e35e7b0",
   "metadata": {},
   "outputs": [
    {
     "data": {
      "text/plain": [
       "<bound method DataFrame.info of         Id  MSSubClass  LotFrontage  LotArea  OverallQual  OverallCond  \\\n",
       "1450  1451          90         60.0     9000            5            5   \n",
       "1451  1452          20         78.0     9262            8            5   \n",
       "1452  1453         180         35.0     3675            5            5   \n",
       "1453  1454          20         90.0    17217            5            5   \n",
       "1454  1455          20         62.0     7500            7            5   \n",
       "...    ...         ...          ...      ...          ...          ...   \n",
       "1454  2915         160         21.0     1936            4            7   \n",
       "1455  2916         160         21.0     1894            4            5   \n",
       "1456  2917          20        160.0    20000            5            7   \n",
       "1457  2918          85         62.0    10441            5            5   \n",
       "1458  2919          60         74.0     9627            7            5   \n",
       "\n",
       "      YearBuilt  YearRemodAdd  MasVnrArea  BsmtFinSF1  ...  SaleType_ConLw  \\\n",
       "1450       1974          1974         0.0         0.0  ...               0   \n",
       "1451       2008          2009       194.0         0.0  ...               0   \n",
       "1452       2005          2005        80.0       547.0  ...               0   \n",
       "1453       2006          2006         0.0         0.0  ...               0   \n",
       "1454       2004          2005         0.0       410.0  ...               0   \n",
       "...         ...           ...         ...         ...  ...             ...   \n",
       "1454       1970          1970         0.0         0.0  ...               0   \n",
       "1455       1970          1970         0.0       252.0  ...               0   \n",
       "1456       1960          1996         0.0      1224.0  ...               0   \n",
       "1457       1992          1992         0.0       337.0  ...               0   \n",
       "1458       1993          1994        94.0       758.0  ...               0   \n",
       "\n",
       "      SaleType_New  SaleType_Oth  SaleType_WD  SaleCondition_Abnorml  \\\n",
       "1450             0             0            1                      0   \n",
       "1451             1             0            0                      0   \n",
       "1452             0             0            1                      0   \n",
       "1453             0             0            1                      1   \n",
       "1454             0             0            1                      0   \n",
       "...            ...           ...          ...                    ...   \n",
       "1454             0             0            1                      0   \n",
       "1455             0             0            1                      1   \n",
       "1456             0             0            1                      1   \n",
       "1457             0             0            1                      0   \n",
       "1458             0             0            1                      0   \n",
       "\n",
       "      SaleCondition_AdjLand  SaleCondition_Alloca  SaleCondition_Family  \\\n",
       "1450                      0                     0                     0   \n",
       "1451                      0                     0                     0   \n",
       "1452                      0                     0                     0   \n",
       "1453                      0                     0                     0   \n",
       "1454                      0                     0                     0   \n",
       "...                     ...                   ...                   ...   \n",
       "1454                      0                     0                     0   \n",
       "1455                      0                     0                     0   \n",
       "1456                      0                     0                     0   \n",
       "1457                      0                     0                     0   \n",
       "1458                      0                     0                     0   \n",
       "\n",
       "      SaleCondition_Normal  SaleCondition_Partial  \n",
       "1450                     1                      0  \n",
       "1451                     0                      1  \n",
       "1452                     1                      0  \n",
       "1453                     0                      0  \n",
       "1454                     1                      0  \n",
       "...                    ...                    ...  \n",
       "1454                     1                      0  \n",
       "1455                     0                      0  \n",
       "1456                     0                      0  \n",
       "1457                     1                      0  \n",
       "1458                     1                      0  \n",
       "\n",
       "[1441 rows x 277 columns]>"
      ]
     },
     "execution_count": 156,
     "metadata": {},
     "output_type": "execute_result"
    }
   ],
   "source": [
    "test_df.info"
   ]
  },
  {
   "cell_type": "code",
   "execution_count": 157,
   "id": "9253a13f",
   "metadata": {},
   "outputs": [
    {
     "data": {
      "text/plain": [
       "array([119252.92, 250371.4 , 128342.64, ..., 158306.94, 118262.46,\n",
       "       228033.14], dtype=float32)"
      ]
     },
     "execution_count": 157,
     "metadata": {},
     "output_type": "execute_result"
    }
   ],
   "source": [
    "y_pred=regressor.predict(test_df.drop(['SalePrice'],axis=1))\n",
    "y_pred"
   ]
  },
  {
   "cell_type": "code",
   "execution_count": 158,
   "id": "3beb616e",
   "metadata": {},
   "outputs": [
    {
     "name": "stdout",
     "output_type": "stream",
     "text": [
      "Training score:  0.985365509537986\n"
     ]
    }
   ],
   "source": [
    "score = regressor.score(train_x, train_y)  \n",
    "print(\"Training score: \", score)"
   ]
  },
  {
   "cell_type": "code",
   "execution_count": 159,
   "id": "79343bb7",
   "metadata": {},
   "outputs": [
    {
     "name": "stdout",
     "output_type": "stream",
     "text": [
      "Mean cross-validation score: 0.89\n"
     ]
    }
   ],
   "source": [
    "from sklearn.model_selection import cross_val_score, KFold\n",
    "scores = cross_val_score(regressor, train_x, train_y,cv=10)\n",
    "print(\"Mean cross-validation score: %.2f\" % scores.mean())"
   ]
  },
  {
   "cell_type": "code",
   "execution_count": 160,
   "id": "168ba6dc",
   "metadata": {},
   "outputs": [
    {
     "name": "stdout",
     "output_type": "stream",
     "text": [
      "K-fold CV average score: 0.88\n"
     ]
    }
   ],
   "source": [
    "kfold = KFold(n_splits=10, shuffle=True)\n",
    "kf_cv_scores = cross_val_score(regressor, train_x, train_y, cv=kfold )\n",
    "print(\"K-fold CV average score: %.2f\" % kf_cv_scores.mean())"
   ]
  },
  {
   "cell_type": "code",
   "execution_count": 161,
   "id": "e4170628",
   "metadata": {},
   "outputs": [
    {
     "name": "stdout",
     "output_type": "stream",
     "text": [
      "112156.62661522532\n"
     ]
    }
   ],
   "source": [
    "from sklearn.metrics import mean_squared_error\n",
    "from math import sqrt\n",
    "\n",
    "rmse=sqrt(mean_squared_error(train_y,y_pred))\n",
    "\n",
    "print (rmse)"
   ]
  },
  {
   "cell_type": "code",
   "execution_count": 162,
   "id": "b1edda43",
   "metadata": {},
   "outputs": [],
   "source": [
    "import pickle\n",
    "filename = 'finalized_model.pkl'\n",
    "pickle.dump(classifier, open(filename, 'wb'))"
   ]
  },
  {
   "cell_type": "code",
   "execution_count": 163,
   "id": "e5f78a32",
   "metadata": {},
   "outputs": [],
   "source": [
    "##Create Sample Submission file and Submit using ANN\n",
    "pred=pd.DataFrame(y_pred)\n",
    "sub_df=pd.read_csv('C:/Users/91842/OneDrive/Desktop/House Prediction/sample_submission.csv')\n",
    "datasets=pd.concat([sub_df['Id'],pred],axis=1)\n",
    "datasets.columns=['Id','SalePrice']\n",
    "datasets.to_csv('sample_submission2.csv',index=False)\n"
   ]
  },
  {
   "cell_type": "code",
   "execution_count": 164,
   "id": "aec40770",
   "metadata": {},
   "outputs": [
    {
     "data": {
      "text/plain": [
       "(1459, 2)"
      ]
     },
     "execution_count": 164,
     "metadata": {},
     "output_type": "execute_result"
    }
   ],
   "source": [
    "datasets.shape"
   ]
  }
 ],
 "metadata": {
  "kernelspec": {
   "display_name": "Python 3",
   "language": "python",
   "name": "python3"
  },
  "language_info": {
   "codemirror_mode": {
    "name": "ipython",
    "version": 3
   },
   "file_extension": ".py",
   "mimetype": "text/x-python",
   "name": "python",
   "nbconvert_exporter": "python",
   "pygments_lexer": "ipython3",
   "version": "3.8.8"
  }
 },
 "nbformat": 4,
 "nbformat_minor": 5
}
